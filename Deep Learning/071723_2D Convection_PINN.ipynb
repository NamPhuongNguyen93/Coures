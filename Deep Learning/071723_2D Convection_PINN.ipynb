{
 "cells": [
  {
   "cell_type": "markdown",
   "id": "3358632d",
   "metadata": {},
   "source": [
    "# Install Libraries (Run this ONLY if these libraries have not been installed)"
   ]
  },
  {
   "cell_type": "code",
   "execution_count": null,
   "id": "efa39981",
   "metadata": {},
   "outputs": [],
   "source": [
    "pip install pyDOE # pyDOE: experimental design package (need to conduct Latin Hypercube Sampling)"
   ]
  },
  {
   "cell_type": "code",
   "execution_count": null,
   "id": "32c83340",
   "metadata": {},
   "outputs": [],
   "source": [
    "pip install openpyxl --upgrade"
   ]
  },
  {
   "cell_type": "code",
   "execution_count": null,
   "id": "f85c17db",
   "metadata": {},
   "outputs": [],
   "source": [
    "pip install torchvision # Install PyTorch via pip"
   ]
  },
  {
   "cell_type": "markdown",
   "id": "8bd4608d",
   "metadata": {},
   "source": [
    "# Import Libraries"
   ]
  },
  {
   "cell_type": "code",
   "execution_count": null,
   "id": "b7c528e1",
   "metadata": {},
   "outputs": [],
   "source": [
    "import win32ui"
   ]
  },
  {
   "cell_type": "code",
   "execution_count": 13,
   "id": "1abc55f7",
   "metadata": {},
   "outputs": [],
   "source": [
    "# Functions for interacting with the operating system\n",
    "import os \n",
    "os.environ['KMP_DUPLICATE_LIB_OK'] = 'True' # Allow to hold generatl information about the environment where the program is running\n",
    "\n",
    "# Import PyTorch libraries\n",
    "import torch\n",
    "import torch.autograd as autograd\n",
    "from torch import Tensor   \n",
    "import matplotlib.pyplot as plt\n",
    "from mpl_toolkits import mplot3d\n",
    "import torch.autograd as autograd\n",
    "import torch.nn as nn\n",
    "import torch.optim as optim\n",
    "\n",
    "# Import math libraries\n",
    "import numpy as np\n",
    "from mpl_toolkits.axes_grid1 import make_axes_locatable\n",
    "from mpl_toolkits.mplot3d import Axes3D\n",
    "import matplotlib.ticker\n",
    "import scipy.io               # Optimization, integratoin, interpolation\n",
    "import sympy as sm            # Symbolic mathematics\n",
    "import math\n",
    "from pyDOE import lhs         # Latin Hypercube Sampling\n",
    "import pandas as pd\n",
    "from sklearn import metrics"
   ]
  },
  {
   "cell_type": "markdown",
   "id": "00eb8e2f",
   "metadata": {},
   "source": [
    "# Define Input Variables and Geometry"
   ]
  },
  {
   "cell_type": "code",
   "execution_count": 16,
   "id": "a9ffa77e",
   "metadata": {},
   "outputs": [],
   "source": [
    "# Define Input Variables\n",
    "xmax = 50   # Maximum x of channel geometry\n",
    "ymax = 50   # Maximum y of channel geometry\n",
    "xstep = 1   # Resolution of x of channel geometry\n",
    "ystep = 0.1 # Resolution of y of channel geometry\n",
    "Nf = 1000   # Number of collcation points\n",
    "Re = 100    # Reynolds number (used in PDE)\n",
    "Pe = 690    # Peclet number (used in PDE)\n",
    "layers = np.array([2,100,100,100,100,100,100,100,3]) # Number of neurons in hidden layers\n",
    "lr = 0.0015 # Learning rate\n",
    "epochs=50000# original=100\n",
    "filename = \"PINN_saved\" # Filename that saves PINN parameters"
   ]
  },
  {
   "cell_type": "code",
   "execution_count": 66,
   "id": "4f88c62f",
   "metadata": {},
   "outputs": [
    {
     "name": "stdout",
     "output_type": "stream",
     "text": [
      "X tensor([[0.0000, 0.0000, 0.0000,  ..., 0.0000, 0.0000, 0.0000],\n",
      "        [0.0204, 0.0204, 0.0204,  ..., 0.0204, 0.0204, 0.0204],\n",
      "        [0.0408, 0.0408, 0.0408,  ..., 0.0408, 0.0408, 0.0408],\n",
      "        ...,\n",
      "        [0.9592, 0.9592, 0.9592,  ..., 0.9592, 0.9592, 0.9592],\n",
      "        [0.9796, 0.9796, 0.9796,  ..., 0.9796, 0.9796, 0.9796],\n",
      "        [1.0000, 1.0000, 1.0000,  ..., 1.0000, 1.0000, 1.0000]])\n",
      "Y tensor([[0.0000, 0.0204, 0.0408,  ..., 0.9592, 0.9796, 1.0000],\n",
      "        [0.0000, 0.0204, 0.0408,  ..., 0.9592, 0.9796, 1.0000],\n",
      "        [0.0000, 0.0204, 0.0408,  ..., 0.9592, 0.9796, 1.0000],\n",
      "        ...,\n",
      "        [0.0000, 0.0204, 0.0408,  ..., 0.9592, 0.9796, 1.0000],\n",
      "        [0.0000, 0.0204, 0.0408,  ..., 0.9592, 0.9796, 1.0000],\n",
      "        [0.0000, 0.0204, 0.0408,  ..., 0.9592, 0.9796, 1.0000]])\n",
      "X shape torch.Size([50, 50])\n",
      "Y shape torch.Size([50, 50])\n",
      "x_plot torch.Size([2500, 2])\n"
     ]
    }
   ],
   "source": [
    "x= torch.linspace(0,xstep,xmax)/xstep  # Define x positions\n",
    "y= torch.linspace(0,ystep,ymax)/ystep  # Define y positions\n",
    "X,Y=torch.meshgrid(x,y,indexing=\"ij\")  # Create meshgrid\n",
    "\n",
    "# Create a vertical array of x and y positions\n",
    "x_plot = torch.hstack((X.transpose(1,0).flatten()[:,None],Y.transpose(1,0).flatten()[:,None]))\n",
    "\n",
    "print(\"X\", X)\n",
    "print(\"Y\", Y)\n",
    "print(\"X shape\", X.shape)\n",
    "print(\"Y shape\", Y.shape)\n",
    "print(\"x_plot\",x_plot.shape)"
   ]
  },
  {
   "cell_type": "markdown",
   "id": "203949d6",
   "metadata": {},
   "source": [
    "# Import Data at Collocation Points"
   ]
  },
  {
   "cell_type": "code",
   "execution_count": 11,
   "id": "5c5b0d15",
   "metadata": {},
   "outputs": [
    {
     "data": {
      "text/html": [
       "<div>\n",
       "<style scoped>\n",
       "    .dataframe tbody tr th:only-of-type {\n",
       "        vertical-align: middle;\n",
       "    }\n",
       "\n",
       "    .dataframe tbody tr th {\n",
       "        vertical-align: top;\n",
       "    }\n",
       "\n",
       "    .dataframe thead th {\n",
       "        text-align: right;\n",
       "    }\n",
       "</style>\n",
       "<table border=\"1\" class=\"dataframe\">\n",
       "  <thead>\n",
       "    <tr style=\"text-align: right;\">\n",
       "      <th></th>\n",
       "      <th>x</th>\n",
       "      <th>y</th>\n",
       "      <th>Temperature</th>\n",
       "      <th>x_nor_rounded</th>\n",
       "      <th>y_nor_rounded</th>\n",
       "      <th>T_min</th>\n",
       "      <th>T_max</th>\n",
       "      <th>T_nor_rounded</th>\n",
       "    </tr>\n",
       "  </thead>\n",
       "  <tbody>\n",
       "    <tr>\n",
       "      <th>0</th>\n",
       "      <td>1.00000</td>\n",
       "      <td>0.008786</td>\n",
       "      <td>43.094382</td>\n",
       "      <td>1.00</td>\n",
       "      <td>0.09</td>\n",
       "      <td>25</td>\n",
       "      <td>60</td>\n",
       "      <td>0.52</td>\n",
       "    </tr>\n",
       "    <tr>\n",
       "      <th>1</th>\n",
       "      <td>0.99324</td>\n",
       "      <td>0.007082</td>\n",
       "      <td>48.165036</td>\n",
       "      <td>0.99</td>\n",
       "      <td>0.07</td>\n",
       "      <td>25</td>\n",
       "      <td>60</td>\n",
       "      <td>0.66</td>\n",
       "    </tr>\n",
       "    <tr>\n",
       "      <th>2</th>\n",
       "      <td>1.00000</td>\n",
       "      <td>0.003848</td>\n",
       "      <td>53.537020</td>\n",
       "      <td>1.00</td>\n",
       "      <td>0.04</td>\n",
       "      <td>25</td>\n",
       "      <td>60</td>\n",
       "      <td>0.82</td>\n",
       "    </tr>\n",
       "    <tr>\n",
       "      <th>3</th>\n",
       "      <td>1.00000</td>\n",
       "      <td>0.090999</td>\n",
       "      <td>24.889790</td>\n",
       "      <td>1.00</td>\n",
       "      <td>0.91</td>\n",
       "      <td>25</td>\n",
       "      <td>60</td>\n",
       "      <td>0.00</td>\n",
       "    </tr>\n",
       "    <tr>\n",
       "      <th>4</th>\n",
       "      <td>1.00000</td>\n",
       "      <td>0.096410</td>\n",
       "      <td>24.886135</td>\n",
       "      <td>1.00</td>\n",
       "      <td>0.96</td>\n",
       "      <td>25</td>\n",
       "      <td>60</td>\n",
       "      <td>0.00</td>\n",
       "    </tr>\n",
       "  </tbody>\n",
       "</table>\n",
       "</div>"
      ],
      "text/plain": [
       "         x         y  Temperature  x_nor_rounded  y_nor_rounded  T_min  T_max  \\\n",
       "0  1.00000  0.008786    43.094382           1.00           0.09     25     60   \n",
       "1  0.99324  0.007082    48.165036           0.99           0.07     25     60   \n",
       "2  1.00000  0.003848    53.537020           1.00           0.04     25     60   \n",
       "3  1.00000  0.090999    24.889790           1.00           0.91     25     60   \n",
       "4  1.00000  0.096410    24.886135           1.00           0.96     25     60   \n",
       "\n",
       "   T_nor_rounded  \n",
       "0           0.52  \n",
       "1           0.66  \n",
       "2           0.82  \n",
       "3           0.00  \n",
       "4           0.00  "
      ]
     },
     "execution_count": 11,
     "metadata": {},
     "output_type": "execute_result"
    }
   ],
   "source": [
    "# Import temperature data\n",
    "df_T = pd.read_excel(\"Dataset.xlsx\", sheet_name = 'T_data') # Normalization of temperature seems incorrect\n",
    "df_T.head()"
   ]
  },
  {
   "cell_type": "code",
   "execution_count": 13,
   "id": "eb0ee57f",
   "metadata": {},
   "outputs": [
    {
     "data": {
      "text/html": [
       "<div>\n",
       "<style scoped>\n",
       "    .dataframe tbody tr th:only-of-type {\n",
       "        vertical-align: middle;\n",
       "    }\n",
       "\n",
       "    .dataframe tbody tr th {\n",
       "        vertical-align: top;\n",
       "    }\n",
       "\n",
       "    .dataframe thead th {\n",
       "        text-align: right;\n",
       "    }\n",
       "</style>\n",
       "<table border=\"1\" class=\"dataframe\">\n",
       "  <thead>\n",
       "    <tr style=\"text-align: right;\">\n",
       "      <th></th>\n",
       "      <th>x</th>\n",
       "      <th>y</th>\n",
       "      <th>Pressure</th>\n",
       "      <th>x_nor_rounded</th>\n",
       "      <th>y_nor_rounded</th>\n",
       "      <th>P max</th>\n",
       "      <th>P_nor_rounded</th>\n",
       "    </tr>\n",
       "  </thead>\n",
       "  <tbody>\n",
       "    <tr>\n",
       "      <th>0</th>\n",
       "      <td>1.00000</td>\n",
       "      <td>0.008786</td>\n",
       "      <td>0.000000e+00</td>\n",
       "      <td>1.00</td>\n",
       "      <td>0.09</td>\n",
       "      <td>0.000997</td>\n",
       "      <td>0.000000</td>\n",
       "    </tr>\n",
       "    <tr>\n",
       "      <th>1</th>\n",
       "      <td>0.99324</td>\n",
       "      <td>0.007082</td>\n",
       "      <td>0.000000e+00</td>\n",
       "      <td>0.99</td>\n",
       "      <td>0.07</td>\n",
       "      <td>0.000997</td>\n",
       "      <td>0.000000</td>\n",
       "    </tr>\n",
       "    <tr>\n",
       "      <th>2</th>\n",
       "      <td>1.00000</td>\n",
       "      <td>0.003848</td>\n",
       "      <td>3.220000e-07</td>\n",
       "      <td>1.00</td>\n",
       "      <td>0.04</td>\n",
       "      <td>0.000997</td>\n",
       "      <td>0.000323</td>\n",
       "    </tr>\n",
       "    <tr>\n",
       "      <th>3</th>\n",
       "      <td>1.00000</td>\n",
       "      <td>0.090999</td>\n",
       "      <td>0.000000e+00</td>\n",
       "      <td>1.00</td>\n",
       "      <td>0.91</td>\n",
       "      <td>0.000997</td>\n",
       "      <td>0.000000</td>\n",
       "    </tr>\n",
       "    <tr>\n",
       "      <th>4</th>\n",
       "      <td>1.00000</td>\n",
       "      <td>0.096410</td>\n",
       "      <td>8.910000e-06</td>\n",
       "      <td>1.00</td>\n",
       "      <td>0.96</td>\n",
       "      <td>0.000997</td>\n",
       "      <td>0.008937</td>\n",
       "    </tr>\n",
       "  </tbody>\n",
       "</table>\n",
       "</div>"
      ],
      "text/plain": [
       "         x         y      Pressure  x_nor_rounded  y_nor_rounded     P max  \\\n",
       "0  1.00000  0.008786  0.000000e+00           1.00           0.09  0.000997   \n",
       "1  0.99324  0.007082  0.000000e+00           0.99           0.07  0.000997   \n",
       "2  1.00000  0.003848  3.220000e-07           1.00           0.04  0.000997   \n",
       "3  1.00000  0.090999  0.000000e+00           1.00           0.91  0.000997   \n",
       "4  1.00000  0.096410  8.910000e-06           1.00           0.96  0.000997   \n",
       "\n",
       "   P_nor_rounded  \n",
       "0       0.000000  \n",
       "1       0.000000  \n",
       "2       0.000323  \n",
       "3       0.000000  \n",
       "4       0.008937  "
      ]
     },
     "execution_count": 13,
     "metadata": {},
     "output_type": "execute_result"
    }
   ],
   "source": [
    "# Import pressure data\n",
    "df_P = pd.read_excel(\"Dataset.xlsx\", sheet_name = 'P_data')\n",
    "df_P.head()"
   ]
  },
  {
   "cell_type": "code",
   "execution_count": 14,
   "id": "059d95c5",
   "metadata": {},
   "outputs": [
    {
     "data": {
      "text/html": [
       "<div>\n",
       "<style scoped>\n",
       "    .dataframe tbody tr th:only-of-type {\n",
       "        vertical-align: middle;\n",
       "    }\n",
       "\n",
       "    .dataframe tbody tr th {\n",
       "        vertical-align: top;\n",
       "    }\n",
       "\n",
       "    .dataframe thead th {\n",
       "        text-align: right;\n",
       "    }\n",
       "</style>\n",
       "<table border=\"1\" class=\"dataframe\">\n",
       "  <thead>\n",
       "    <tr style=\"text-align: right;\">\n",
       "      <th></th>\n",
       "      <th>x</th>\n",
       "      <th>y</th>\n",
       "      <th>Velocity field, x component</th>\n",
       "      <th>x_nor_rounded</th>\n",
       "      <th>y_nor_rounded</th>\n",
       "      <th>u_nor_rounded</th>\n",
       "    </tr>\n",
       "  </thead>\n",
       "  <tbody>\n",
       "    <tr>\n",
       "      <th>0</th>\n",
       "      <td>1.00000</td>\n",
       "      <td>0.008786</td>\n",
       "      <td>0.000647</td>\n",
       "      <td>1.00</td>\n",
       "      <td>0.09</td>\n",
       "      <td>0.647</td>\n",
       "    </tr>\n",
       "    <tr>\n",
       "      <th>1</th>\n",
       "      <td>0.99324</td>\n",
       "      <td>0.007082</td>\n",
       "      <td>0.000525</td>\n",
       "      <td>0.99</td>\n",
       "      <td>0.07</td>\n",
       "      <td>0.525</td>\n",
       "    </tr>\n",
       "    <tr>\n",
       "      <th>2</th>\n",
       "      <td>1.00000</td>\n",
       "      <td>0.003848</td>\n",
       "      <td>0.000297</td>\n",
       "      <td>1.00</td>\n",
       "      <td>0.04</td>\n",
       "      <td>0.297</td>\n",
       "    </tr>\n",
       "    <tr>\n",
       "      <th>3</th>\n",
       "      <td>1.00000</td>\n",
       "      <td>0.090999</td>\n",
       "      <td>0.000488</td>\n",
       "      <td>1.00</td>\n",
       "      <td>0.91</td>\n",
       "      <td>0.488</td>\n",
       "    </tr>\n",
       "    <tr>\n",
       "      <th>4</th>\n",
       "      <td>1.00000</td>\n",
       "      <td>0.096410</td>\n",
       "      <td>0.000190</td>\n",
       "      <td>1.00</td>\n",
       "      <td>0.96</td>\n",
       "      <td>0.190</td>\n",
       "    </tr>\n",
       "  </tbody>\n",
       "</table>\n",
       "</div>"
      ],
      "text/plain": [
       "         x         y  Velocity field, x component  x_nor_rounded  \\\n",
       "0  1.00000  0.008786                     0.000647           1.00   \n",
       "1  0.99324  0.007082                     0.000525           0.99   \n",
       "2  1.00000  0.003848                     0.000297           1.00   \n",
       "3  1.00000  0.090999                     0.000488           1.00   \n",
       "4  1.00000  0.096410                     0.000190           1.00   \n",
       "\n",
       "   y_nor_rounded  u_nor_rounded  \n",
       "0           0.09          0.647  \n",
       "1           0.07          0.525  \n",
       "2           0.04          0.297  \n",
       "3           0.91          0.488  \n",
       "4           0.96          0.190  "
      ]
     },
     "execution_count": 14,
     "metadata": {},
     "output_type": "execute_result"
    }
   ],
   "source": [
    "# Import velocity data\n",
    "df_u = pd.read_excel(\"Dataset.xlsx\", sheet_name = 'U_data')\n",
    "df_u.head()"
   ]
  },
  {
   "cell_type": "code",
   "execution_count": 30,
   "id": "7ee51ee3",
   "metadata": {},
   "outputs": [
    {
     "data": {
      "text/plain": [
       "torch.Size([1500, 2])"
      ]
     },
     "execution_count": 30,
     "metadata": {},
     "output_type": "execute_result"
    }
   ],
   "source": [
    "# Extracting x and y positions from data\n",
    "X_test = torch.tensor(df_T['x_nor_rounded'].values)  # Defining a numeric array of x positions \n",
    "Y_test = torch.tensor(df_T['y_nor_rounded'].values)  # Defining a numeric array of y positions\n",
    "x_test_groundtruth = torch.stack((X_test, Y_test), -1) # Defining a numeric array of x and y positions\n",
    "x_test_groundtruth.shape"
   ]
  },
  {
   "cell_type": "code",
   "execution_count": 598,
   "id": "96ba7615",
   "metadata": {},
   "outputs": [
    {
     "data": {
      "text/plain": [
       "(1500, 1)"
      ]
     },
     "execution_count": 598,
     "metadata": {},
     "output_type": "execute_result"
    }
   ],
   "source": [
    "# Extracting only the T, P, u data from the dataset\n",
    "T_groundtruth = pd.DataFrame(df_T['T_nor_rounded'])\n",
    "P_groundtruth = pd.DataFrame(df_P['P_nor_rounded'])\n",
    "u_groundtruth = pd.DataFrame(df_u['u_nor_rounded'])\n",
    "u_groundtruth.shape"
   ]
  },
  {
   "cell_type": "markdown",
   "id": "95506e88",
   "metadata": {},
   "source": [
    "# Import Data at Sensor Locations"
   ]
  },
  {
   "cell_type": "code",
   "execution_count": 84,
   "id": "18e7068d",
   "metadata": {},
   "outputs": [
    {
     "data": {
      "text/html": [
       "<div>\n",
       "<style scoped>\n",
       "    .dataframe tbody tr th:only-of-type {\n",
       "        vertical-align: middle;\n",
       "    }\n",
       "\n",
       "    .dataframe tbody tr th {\n",
       "        vertical-align: top;\n",
       "    }\n",
       "\n",
       "    .dataframe thead th {\n",
       "        text-align: right;\n",
       "    }\n",
       "</style>\n",
       "<table border=\"1\" class=\"dataframe\">\n",
       "  <thead>\n",
       "    <tr style=\"text-align: right;\">\n",
       "      <th></th>\n",
       "      <th>x</th>\n",
       "      <th>y</th>\n",
       "      <th>x_nor</th>\n",
       "      <th>y_nor</th>\n",
       "      <th>Temperature</th>\n",
       "      <th>T surface</th>\n",
       "      <th>T inlet</th>\n",
       "      <th>delt T</th>\n",
       "      <th>T_nor</th>\n",
       "      <th>T_nor_rounded</th>\n",
       "    </tr>\n",
       "  </thead>\n",
       "  <tbody>\n",
       "    <tr>\n",
       "      <th>0</th>\n",
       "      <td>0.95</td>\n",
       "      <td>0.004160</td>\n",
       "      <td>0.95</td>\n",
       "      <td>0.04</td>\n",
       "      <td>326.114396</td>\n",
       "      <td>333</td>\n",
       "      <td>298</td>\n",
       "      <td>35</td>\n",
       "      <td>0.803268</td>\n",
       "      <td>0.803</td>\n",
       "    </tr>\n",
       "    <tr>\n",
       "      <th>1</th>\n",
       "      <td>0.95</td>\n",
       "      <td>0.053032</td>\n",
       "      <td>0.95</td>\n",
       "      <td>0.53</td>\n",
       "      <td>298.852376</td>\n",
       "      <td>333</td>\n",
       "      <td>298</td>\n",
       "      <td>35</td>\n",
       "      <td>0.024354</td>\n",
       "      <td>0.024</td>\n",
       "    </tr>\n",
       "    <tr>\n",
       "      <th>2</th>\n",
       "      <td>0.95</td>\n",
       "      <td>0.096524</td>\n",
       "      <td>0.95</td>\n",
       "      <td>0.97</td>\n",
       "      <td>298.000000</td>\n",
       "      <td>333</td>\n",
       "      <td>298</td>\n",
       "      <td>35</td>\n",
       "      <td>0.000000</td>\n",
       "      <td>0.000</td>\n",
       "    </tr>\n",
       "    <tr>\n",
       "      <th>3</th>\n",
       "      <td>0.05</td>\n",
       "      <td>0.098075</td>\n",
       "      <td>0.05</td>\n",
       "      <td>0.98</td>\n",
       "      <td>298.000000</td>\n",
       "      <td>333</td>\n",
       "      <td>298</td>\n",
       "      <td>35</td>\n",
       "      <td>0.000000</td>\n",
       "      <td>0.000</td>\n",
       "    </tr>\n",
       "    <tr>\n",
       "      <th>4</th>\n",
       "      <td>0.05</td>\n",
       "      <td>0.054241</td>\n",
       "      <td>0.05</td>\n",
       "      <td>0.54</td>\n",
       "      <td>298.000000</td>\n",
       "      <td>333</td>\n",
       "      <td>298</td>\n",
       "      <td>35</td>\n",
       "      <td>0.000000</td>\n",
       "      <td>0.000</td>\n",
       "    </tr>\n",
       "    <tr>\n",
       "      <th>5</th>\n",
       "      <td>0.05</td>\n",
       "      <td>0.004297</td>\n",
       "      <td>0.05</td>\n",
       "      <td>0.04</td>\n",
       "      <td>315.800000</td>\n",
       "      <td>333</td>\n",
       "      <td>298</td>\n",
       "      <td>35</td>\n",
       "      <td>0.508571</td>\n",
       "      <td>0.509</td>\n",
       "    </tr>\n",
       "  </tbody>\n",
       "</table>\n",
       "</div>"
      ],
      "text/plain": [
       "      x         y  x_nor  y_nor  Temperature  T surface  T inlet  delt T  \\\n",
       "0  0.95  0.004160   0.95   0.04   326.114396        333      298      35   \n",
       "1  0.95  0.053032   0.95   0.53   298.852376        333      298      35   \n",
       "2  0.95  0.096524   0.95   0.97   298.000000        333      298      35   \n",
       "3  0.05  0.098075   0.05   0.98   298.000000        333      298      35   \n",
       "4  0.05  0.054241   0.05   0.54   298.000000        333      298      35   \n",
       "5  0.05  0.004297   0.05   0.04   315.800000        333      298      35   \n",
       "\n",
       "      T_nor  T_nor_rounded  \n",
       "0  0.803268          0.803  \n",
       "1  0.024354          0.024  \n",
       "2  0.000000          0.000  \n",
       "3  0.000000          0.000  \n",
       "4  0.000000          0.000  \n",
       "5  0.508571          0.509  "
      ]
     },
     "execution_count": 84,
     "metadata": {},
     "output_type": "execute_result"
    }
   ],
   "source": [
    "# Import temperature data at sensor points \n",
    "df = pd.read_excel(\"Dataset.xlsx\", sheet_name = 'T_sensor')\n",
    "df.head(7)"
   ]
  },
  {
   "cell_type": "code",
   "execution_count": 85,
   "id": "8af204f9",
   "metadata": {},
   "outputs": [],
   "source": [
    "# Extracting only the x, y, T data from the dataset\n",
    "x_data_tensor_T = torch.tensor(df['x_nor'].values)\n",
    "y_data_tensor_T = torch.tensor(df['y_nor'].values)\n",
    "Y_train_CFD_T = torch.tensor(df['T_nor_rounded'].values)\n",
    "\n",
    "X_train_CFD_T = torch.stack((x_data_tensor_T, y_data_tensor_T), -1)\n",
    "X_train_CFD_T.shape\n",
    "Y_train_CFD_T = Y_train_CFD_T.unsqueeze(1)       # converting 1D to 2D tensor ([1200] vs [1200,1])"
   ]
  },
  {
   "cell_type": "code",
   "execution_count": 86,
   "id": "244e8d56",
   "metadata": {},
   "outputs": [
    {
     "data": {
      "text/html": [
       "<div>\n",
       "<style scoped>\n",
       "    .dataframe tbody tr th:only-of-type {\n",
       "        vertical-align: middle;\n",
       "    }\n",
       "\n",
       "    .dataframe tbody tr th {\n",
       "        vertical-align: top;\n",
       "    }\n",
       "\n",
       "    .dataframe thead th {\n",
       "        text-align: right;\n",
       "    }\n",
       "</style>\n",
       "<table border=\"1\" class=\"dataframe\">\n",
       "  <thead>\n",
       "    <tr style=\"text-align: right;\">\n",
       "      <th></th>\n",
       "      <th>x</th>\n",
       "      <th>y</th>\n",
       "      <th>y_rounded</th>\n",
       "      <th>x_nor</th>\n",
       "      <th>y_nor</th>\n",
       "      <th>Velocity field, x component</th>\n",
       "      <th>u_mean</th>\n",
       "      <th>u_nor</th>\n",
       "      <th>u_nor.1</th>\n",
       "      <th>u_nor_rounded</th>\n",
       "    </tr>\n",
       "  </thead>\n",
       "  <tbody>\n",
       "    <tr>\n",
       "      <th>0</th>\n",
       "      <td>0.95</td>\n",
       "      <td>0.004160</td>\n",
       "      <td>0.004</td>\n",
       "      <td>0.95</td>\n",
       "      <td>0.04</td>\n",
       "      <td>0.000334</td>\n",
       "      <td>0.001</td>\n",
       "      <td>0.334410</td>\n",
       "      <td>0.334</td>\n",
       "      <td>0.334</td>\n",
       "    </tr>\n",
       "    <tr>\n",
       "      <th>1</th>\n",
       "      <td>0.95</td>\n",
       "      <td>0.053032</td>\n",
       "      <td>0.053</td>\n",
       "      <td>0.95</td>\n",
       "      <td>0.53</td>\n",
       "      <td>0.001417</td>\n",
       "      <td>0.001</td>\n",
       "      <td>1.417359</td>\n",
       "      <td>1.417</td>\n",
       "      <td>1.417</td>\n",
       "    </tr>\n",
       "    <tr>\n",
       "      <th>2</th>\n",
       "      <td>0.95</td>\n",
       "      <td>0.096524</td>\n",
       "      <td>0.097</td>\n",
       "      <td>0.95</td>\n",
       "      <td>0.97</td>\n",
       "      <td>0.000188</td>\n",
       "      <td>0.001</td>\n",
       "      <td>0.187970</td>\n",
       "      <td>0.188</td>\n",
       "      <td>0.188</td>\n",
       "    </tr>\n",
       "    <tr>\n",
       "      <th>3</th>\n",
       "      <td>0.05</td>\n",
       "      <td>0.098075</td>\n",
       "      <td>0.098</td>\n",
       "      <td>0.05</td>\n",
       "      <td>0.98</td>\n",
       "      <td>0.000113</td>\n",
       "      <td>0.001</td>\n",
       "      <td>0.112867</td>\n",
       "      <td>0.113</td>\n",
       "      <td>0.113</td>\n",
       "    </tr>\n",
       "    <tr>\n",
       "      <th>4</th>\n",
       "      <td>0.05</td>\n",
       "      <td>0.054241</td>\n",
       "      <td>0.054</td>\n",
       "      <td>0.05</td>\n",
       "      <td>0.54</td>\n",
       "      <td>0.001404</td>\n",
       "      <td>0.001</td>\n",
       "      <td>1.404406</td>\n",
       "      <td>1.404</td>\n",
       "      <td>1.404</td>\n",
       "    </tr>\n",
       "    <tr>\n",
       "      <th>5</th>\n",
       "      <td>0.05</td>\n",
       "      <td>0.004297</td>\n",
       "      <td>0.004</td>\n",
       "      <td>0.05</td>\n",
       "      <td>0.04</td>\n",
       "      <td>0.000339</td>\n",
       "      <td>0.001</td>\n",
       "      <td>0.339239</td>\n",
       "      <td>0.339</td>\n",
       "      <td>0.339</td>\n",
       "    </tr>\n",
       "  </tbody>\n",
       "</table>\n",
       "</div>"
      ],
      "text/plain": [
       "      x         y  y_rounded  x_nor  y_nor  Velocity field, x component  \\\n",
       "0  0.95  0.004160      0.004   0.95   0.04                     0.000334   \n",
       "1  0.95  0.053032      0.053   0.95   0.53                     0.001417   \n",
       "2  0.95  0.096524      0.097   0.95   0.97                     0.000188   \n",
       "3  0.05  0.098075      0.098   0.05   0.98                     0.000113   \n",
       "4  0.05  0.054241      0.054   0.05   0.54                     0.001404   \n",
       "5  0.05  0.004297      0.004   0.05   0.04                     0.000339   \n",
       "\n",
       "   u_mean     u_nor  u_nor.1  u_nor_rounded  \n",
       "0   0.001  0.334410    0.334          0.334  \n",
       "1   0.001  1.417359    1.417          1.417  \n",
       "2   0.001  0.187970    0.188          0.188  \n",
       "3   0.001  0.112867    0.113          0.113  \n",
       "4   0.001  1.404406    1.404          1.404  \n",
       "5   0.001  0.339239    0.339          0.339  "
      ]
     },
     "execution_count": 86,
     "metadata": {},
     "output_type": "execute_result"
    }
   ],
   "source": [
    "# Import u-velocity data at sensor points \n",
    "df = pd.read_excel(\"Dataset.xlsx\", sheet_name = 'U_sensor')\n",
    "df.head(7)"
   ]
  },
  {
   "cell_type": "code",
   "execution_count": 87,
   "id": "ec8b6717",
   "metadata": {},
   "outputs": [],
   "source": [
    "# Extracting only the x, y, u data from the dataset\n",
    "x_data_tensor_U = torch.tensor(df['x_nor'].values)\n",
    "y_data_tensor_U = torch.tensor(df['y_nor'].values)\n",
    "Y_train_CFD_U = torch.tensor(df['u_nor_rounded'].values)\n",
    "\n",
    "X_train_CFD_U = torch.stack((x_data_tensor_U, y_data_tensor_U), -1)\n",
    "Coordinate_CFD_U.shape\n",
    "Y_train_CFD_U = Y_train_CFD_U.unsqueeze(1)         # converting 1D to 2D tensor ([1200] vs [1200,1])\n",
    "\n",
    "#print(\"X_train_CFD_U\", X_train_CFD_U)\n",
    "#print(\"Y_train_CFD_U\", Y_train_CFD_U)"
   ]
  },
  {
   "cell_type": "code",
   "execution_count": 89,
   "id": "5a78ea22",
   "metadata": {},
   "outputs": [
    {
     "data": {
      "text/html": [
       "<div>\n",
       "<style scoped>\n",
       "    .dataframe tbody tr th:only-of-type {\n",
       "        vertical-align: middle;\n",
       "    }\n",
       "\n",
       "    .dataframe tbody tr th {\n",
       "        vertical-align: top;\n",
       "    }\n",
       "\n",
       "    .dataframe thead th {\n",
       "        text-align: right;\n",
       "    }\n",
       "</style>\n",
       "<table border=\"1\" class=\"dataframe\">\n",
       "  <thead>\n",
       "    <tr style=\"text-align: right;\">\n",
       "      <th></th>\n",
       "      <th>x</th>\n",
       "      <th>Unnamed: 1</th>\n",
       "      <th>y</th>\n",
       "      <th>y_rounded</th>\n",
       "      <th>Velocity field, y component</th>\n",
       "      <th>v max</th>\n",
       "      <th>v_star</th>\n",
       "      <th>v_star.1</th>\n",
       "      <th>v_star_rounded</th>\n",
       "    </tr>\n",
       "  </thead>\n",
       "  <tbody>\n",
       "    <tr>\n",
       "      <th>0</th>\n",
       "      <td>0.05</td>\n",
       "      <td>NaN</td>\n",
       "      <td>0.004266</td>\n",
       "      <td>0.0043</td>\n",
       "      <td>0.0</td>\n",
       "      <td>0.000006</td>\n",
       "      <td>0.0</td>\n",
       "      <td>0.0</td>\n",
       "      <td>0.0</td>\n",
       "    </tr>\n",
       "    <tr>\n",
       "      <th>1</th>\n",
       "      <td>0.05</td>\n",
       "      <td>NaN</td>\n",
       "      <td>0.008868</td>\n",
       "      <td>0.0089</td>\n",
       "      <td>0.0</td>\n",
       "      <td>0.000006</td>\n",
       "      <td>0.0</td>\n",
       "      <td>0.0</td>\n",
       "      <td>0.0</td>\n",
       "    </tr>\n",
       "    <tr>\n",
       "      <th>2</th>\n",
       "      <td>0.05</td>\n",
       "      <td>NaN</td>\n",
       "      <td>0.016735</td>\n",
       "      <td>0.0167</td>\n",
       "      <td>0.0</td>\n",
       "      <td>0.000006</td>\n",
       "      <td>0.0</td>\n",
       "      <td>0.0</td>\n",
       "      <td>0.0</td>\n",
       "    </tr>\n",
       "    <tr>\n",
       "      <th>3</th>\n",
       "      <td>0.05</td>\n",
       "      <td>NaN</td>\n",
       "      <td>0.026899</td>\n",
       "      <td>0.0269</td>\n",
       "      <td>0.0</td>\n",
       "      <td>0.000006</td>\n",
       "      <td>0.0</td>\n",
       "      <td>0.0</td>\n",
       "      <td>0.0</td>\n",
       "    </tr>\n",
       "    <tr>\n",
       "      <th>4</th>\n",
       "      <td>0.05</td>\n",
       "      <td>NaN</td>\n",
       "      <td>0.088571</td>\n",
       "      <td>0.0886</td>\n",
       "      <td>0.0</td>\n",
       "      <td>0.000006</td>\n",
       "      <td>0.0</td>\n",
       "      <td>0.0</td>\n",
       "      <td>0.0</td>\n",
       "    </tr>\n",
       "  </tbody>\n",
       "</table>\n",
       "</div>"
      ],
      "text/plain": [
       "      x  Unnamed: 1         y  y_rounded  Velocity field, y component  \\\n",
       "0  0.05         NaN  0.004266     0.0043                          0.0   \n",
       "1  0.05         NaN  0.008868     0.0089                          0.0   \n",
       "2  0.05         NaN  0.016735     0.0167                          0.0   \n",
       "3  0.05         NaN  0.026899     0.0269                          0.0   \n",
       "4  0.05         NaN  0.088571     0.0886                          0.0   \n",
       "\n",
       "      v max  v_star  v_star.1  v_star_rounded  \n",
       "0  0.000006     0.0       0.0             0.0  \n",
       "1  0.000006     0.0       0.0             0.0  \n",
       "2  0.000006     0.0       0.0             0.0  \n",
       "3  0.000006     0.0       0.0             0.0  \n",
       "4  0.000006     0.0       0.0             0.0  "
      ]
     },
     "execution_count": 89,
     "metadata": {},
     "output_type": "execute_result"
    }
   ],
   "source": [
    "# Import v-velocity data at sensor points  \n",
    "df = pd.read_excel(\"Dataset.xlsx\", sheet_name = 'V_sensor')\n",
    "df.head()"
   ]
  },
  {
   "cell_type": "code",
   "execution_count": 90,
   "id": "98380b9d",
   "metadata": {},
   "outputs": [],
   "source": [
    "# Extracting only the x, y, v data from the dataset\n",
    "x_data_tensor_V = torch.tensor(df['x'].values)\n",
    "y_data_tensor_V = torch.tensor(df['y_rounded'].values)\n",
    "Y_train_CFD_V = torch.tensor(df['v_star_rounded'].values)\n",
    "\n",
    "X_train_CFD_V = torch.stack((x_data_tensor_V, y_data_tensor_V), -1)\n",
    "X_train_CFD_V.shape\n",
    "Y_train_CFD_V=Y_train_CFD_V.unsqueeze(1)         # converting 1D to 2D tensor ([1200] vs [1200,1])"
   ]
  },
  {
   "cell_type": "code",
   "execution_count": 91,
   "id": "ea229bc8",
   "metadata": {},
   "outputs": [
    {
     "data": {
      "text/html": [
       "<div>\n",
       "<style scoped>\n",
       "    .dataframe tbody tr th:only-of-type {\n",
       "        vertical-align: middle;\n",
       "    }\n",
       "\n",
       "    .dataframe tbody tr th {\n",
       "        vertical-align: top;\n",
       "    }\n",
       "\n",
       "    .dataframe thead th {\n",
       "        text-align: right;\n",
       "    }\n",
       "</style>\n",
       "<table border=\"1\" class=\"dataframe\">\n",
       "  <thead>\n",
       "    <tr style=\"text-align: right;\">\n",
       "      <th></th>\n",
       "      <th>x</th>\n",
       "      <th>y</th>\n",
       "      <th>x_nor</th>\n",
       "      <th>y_rounded</th>\n",
       "      <th>y_nor</th>\n",
       "      <th>Pressure</th>\n",
       "      <th>Pressure inlet</th>\n",
       "      <th>p_nor</th>\n",
       "      <th>p_nor_rounded</th>\n",
       "    </tr>\n",
       "  </thead>\n",
       "  <tbody>\n",
       "    <tr>\n",
       "      <th>0</th>\n",
       "      <td>0.95</td>\n",
       "      <td>0.004160</td>\n",
       "      <td>0.95</td>\n",
       "      <td>0.004</td>\n",
       "      <td>0.04</td>\n",
       "      <td>0.000033</td>\n",
       "      <td>0.000997</td>\n",
       "      <td>0.0332</td>\n",
       "      <td>0.0332</td>\n",
       "    </tr>\n",
       "    <tr>\n",
       "      <th>1</th>\n",
       "      <td>0.95</td>\n",
       "      <td>0.053032</td>\n",
       "      <td>0.95</td>\n",
       "      <td>0.053</td>\n",
       "      <td>0.53</td>\n",
       "      <td>0.000033</td>\n",
       "      <td>0.000997</td>\n",
       "      <td>0.0332</td>\n",
       "      <td>0.0332</td>\n",
       "    </tr>\n",
       "    <tr>\n",
       "      <th>2</th>\n",
       "      <td>0.95</td>\n",
       "      <td>0.096524</td>\n",
       "      <td>0.95</td>\n",
       "      <td>0.097</td>\n",
       "      <td>0.97</td>\n",
       "      <td>0.000033</td>\n",
       "      <td>0.000997</td>\n",
       "      <td>0.0332</td>\n",
       "      <td>0.0332</td>\n",
       "    </tr>\n",
       "    <tr>\n",
       "      <th>3</th>\n",
       "      <td>0.05</td>\n",
       "      <td>0.098075</td>\n",
       "      <td>0.05</td>\n",
       "      <td>0.098</td>\n",
       "      <td>0.98</td>\n",
       "      <td>0.000876</td>\n",
       "      <td>0.000997</td>\n",
       "      <td>0.8780</td>\n",
       "      <td>0.8780</td>\n",
       "    </tr>\n",
       "    <tr>\n",
       "      <th>4</th>\n",
       "      <td>0.05</td>\n",
       "      <td>0.054241</td>\n",
       "      <td>0.05</td>\n",
       "      <td>0.054</td>\n",
       "      <td>0.54</td>\n",
       "      <td>0.000876</td>\n",
       "      <td>0.000997</td>\n",
       "      <td>0.8780</td>\n",
       "      <td>0.8780</td>\n",
       "    </tr>\n",
       "    <tr>\n",
       "      <th>5</th>\n",
       "      <td>0.05</td>\n",
       "      <td>0.004297</td>\n",
       "      <td>0.05</td>\n",
       "      <td>0.004</td>\n",
       "      <td>0.04</td>\n",
       "      <td>0.000876</td>\n",
       "      <td>0.000997</td>\n",
       "      <td>0.8780</td>\n",
       "      <td>0.8780</td>\n",
       "    </tr>\n",
       "  </tbody>\n",
       "</table>\n",
       "</div>"
      ],
      "text/plain": [
       "      x         y  x_nor  y_rounded  y_nor  Pressure  Pressure inlet   p_nor  \\\n",
       "0  0.95  0.004160   0.95      0.004   0.04  0.000033        0.000997  0.0332   \n",
       "1  0.95  0.053032   0.95      0.053   0.53  0.000033        0.000997  0.0332   \n",
       "2  0.95  0.096524   0.95      0.097   0.97  0.000033        0.000997  0.0332   \n",
       "3  0.05  0.098075   0.05      0.098   0.98  0.000876        0.000997  0.8780   \n",
       "4  0.05  0.054241   0.05      0.054   0.54  0.000876        0.000997  0.8780   \n",
       "5  0.05  0.004297   0.05      0.004   0.04  0.000876        0.000997  0.8780   \n",
       "\n",
       "   p_nor_rounded  \n",
       "0         0.0332  \n",
       "1         0.0332  \n",
       "2         0.0332  \n",
       "3         0.8780  \n",
       "4         0.8780  \n",
       "5         0.8780  "
      ]
     },
     "execution_count": 91,
     "metadata": {},
     "output_type": "execute_result"
    }
   ],
   "source": [
    "# Import pressure data at sensor points \n",
    "df = pd.read_excel(\"Dataset.xlsx\", sheet_name = 'P_sensor')\n",
    "df.head(15)"
   ]
  },
  {
   "cell_type": "code",
   "execution_count": 92,
   "id": "39072a5e",
   "metadata": {},
   "outputs": [],
   "source": [
    "# Extracting only the x, y, p data from the dataset\n",
    "x_data_tensor_P = torch.tensor(df['x_nor'].values)\n",
    "y_data_tensor_P = torch.tensor(df['y_nor'].values)\n",
    "Y_train_CFD_P = torch.tensor(df['p_nor_rounded'].values)\n",
    "\n",
    "X_train_CFD_P = torch.stack((x_data_tensor_P, y_data_tensor_P), -1)\n",
    "X_train_CFD_P.shape\n",
    "Y_train_CFD_P=Y_train_CFD_P.unsqueeze(1)         # converting 1D to 2D tensor ([1200] vs [1200,1])"
   ]
  },
  {
   "cell_type": "markdown",
   "id": "62dec910",
   "metadata": {},
   "source": [
    "# Define Boundary Conditions and Random Collocation Points\n",
    "# Training Data"
   ]
  },
  {
   "cell_type": "code",
   "execution_count": 49,
   "id": "72524cb3",
   "metadata": {},
   "outputs": [
    {
     "name": "stdout",
     "output_type": "stream",
     "text": [
      "X_train_BC torch.Size([300, 2])\n",
      "Y_train_BC torch.Size([300, 1])\n"
     ]
    }
   ],
   "source": [
    "# Boundary conditions\n",
    "\n",
    "# Boundary condition at y = 0\n",
    "lower_bound_y = torch.hstack((X[:,0][:,None],Y[:, 0][:,None]))  # lower boundary's coordinates\n",
    "lower_bound_T = torch.full((x.size(dim=0), 1), 1)               # temperature at bottom = Tmax (1)\n",
    "lower_bound_U = torch.full((x.size(dim=0), 1), 0)               # velocity at bottom u = 0 (0)\n",
    "\n",
    "# print(\"lower_bound_y\", lower_bound_y)\n",
    "# print(\"lower_bound_T\", lower_bound_T)\n",
    "\n",
    "# Boundary condition at y = 1\n",
    "upper_bound_y = torch.hstack((X[:,1][:,None],Y[:, -1][:,None]))  # upper bound coordinates\n",
    "upper_bound_T = torch.full((x.size(dim=0), 1), 0)               # temperature at top = Tmin (0)\n",
    "upper_bound_U = torch.full((x.size(dim=0), 1), 0)                # velocity at bottom u = 0 (0)\n",
    "\n",
    "# print(\"upper_bound_y\", upper_bound_y)\n",
    "# print(\"upper_bound_T\", upper_bound_T)\n",
    "\n",
    "# Boundary condition at x = 0\n",
    "inlet_bound_y = torch.hstack((X[0,:][:,None],Y[1, :][:,None]))   # inlet coordinates\n",
    "inlet_bound_T = torch.full((y.size(dim=0), 1), 0)                # inlet temperature = Tmin (0)\n",
    "#inlet_bound_U = torch.full((y.size(dim=0), 1), 0.685)           # inlet velocity u = 0.001 m/s (u/umax)\n",
    "#inlet_bound_V = torch.full((y.size(dim=0), 1), 0)               # inlet velocity v = vmin (0) \n",
    "inlet_bound_p = torch.full((y.size(dim=0), 1), 1)                # inlet pressure = Pmax (1)\n",
    "\n",
    "# print(\"inlet_bound_y\", inlet_bound_y)\n",
    "# print(\"inlet_bound_T\", inlet_bound_T)\n",
    "# print(\"inlet_bound_U\", inlet_bound_U)\n",
    "\n",
    "# Boundary condition at x = 1\n",
    "outlet_bound_y = torch.hstack((X[x.size(dim=0)-1,:][:,None],Y[1, :][:,None]))  # outlet coordinates\n",
    "outlet_bound_p = torch.full((y.size(dim=0), 1), 0)                             # outlet pressure = Pmin (0)\n",
    "\n",
    "# Boundary condition array\n",
    "X_train_BC = torch.vstack([lower_bound_y,lower_bound_y,upper_bound_y,inlet_bound_y,inlet_bound_y,outlet_bound_y])\n",
    "Y_train_BC = torch.vstack([lower_bound_T,lower_bound_U,upper_bound_U,inlet_bound_T,inlet_bound_p,outlet_bound_p])\n",
    "\n",
    "print(\"X_train_BC\", X_train_BC.shape)\n",
    "print(\"Y_train_BC\", Y_train_BC.shape)"
   ]
  },
  {
   "cell_type": "code",
   "execution_count": 81,
   "id": "2f480d8a",
   "metadata": {},
   "outputs": [],
   "source": [
    "# Is this needed when training only with sensor data?\n",
    "# Collocation points for PDEs\n",
    "lb = x_plot[0]  # First element of x and y position array\n",
    "ub = x_plot[-1] # Last element of x and y position array\n",
    "\n",
    "# Choose(Nf) points(Latin hypercube sampling)\n",
    "X_train_Nf = lb+(ub-lb)*lhs(2,Nf) # coordinates of randomly selected Nf points; put 2 as the inputs are x and y\n",
    "X_train_TT=torch.vstack((X_train_Nf,X_train_BC)) # coordinates of collcation points + boundary condition points"
   ]
  },
  {
   "cell_type": "markdown",
   "id": "305018bc",
   "metadata": {},
   "source": [
    "# Plot Training Points"
   ]
  },
  {
   "cell_type": "code",
   "execution_count": 101,
   "id": "3e4928ef",
   "metadata": {},
   "outputs": [
    {
     "data": {
      "image/png": "[encoded data removed]",
      "text/plain": [
       "<Figure size 1200x200 with 1 Axes>"
      ]
     },
     "metadata": {},
     "output_type": "display_data"
    }
   ],
   "source": [
    "# Plot the locations of boundary and sensor data points\n",
    "\n",
    "fig,ax = plt.subplots()\n",
    "\n",
    "# Plot the locations of boundary condition points \n",
    "plt.plot(X_train_BC[:,0], X_train_BC[:,1], 'o', color = 'blue', markersize = 5, label = '300 Boundary points')\n",
    "\n",
    "# Plot the locations of inner domain collocation points (if you want to see change the color)\n",
    "#plt.plot(X_train_Nf[:,0], X_train_Nf[:,1], 'o', color = 'white',markersize = 3, label = '1000 Latin hypercube collocations')\n",
    "\n",
    "# Plot the locations of temperature sensor points \n",
    "plt.plot(Coordinate_CFD_T[:,0], Coordinate_CFD_T[:,1], '.', color = 'red', markersize = 12, label = 'Sensor points_temperature')\n",
    "\n",
    "# Plot the locations of pressure sensor points \n",
    "#plt.plot(Coordinate_CFD_P[:,0], Coordinate_CFD_P[:,1], '.', color = 'red', markersize = 12, label = '3 Sensor points: velocity, temperature, and pressure')\n",
    "#plt.plot(Coordinate_CFD_P[:,0], Coordinate_CFD_P[:,1], '.', color = 'purple', markersize = 5, label = 'Sensor points_pressure drop')\n",
    "\n",
    "plt.rcParams[\"figure.figsize\"] = [12, 2]\n",
    "plt.rcParams[\"figure.autolayout\"] = True\n",
    "\n",
    "plt.xlabel('x',size=20)\n",
    "plt.ylabel('y',size=20)\n",
    "\n",
    "# plt.title('Total training points',size=20)\n",
    "plt.legend(bbox_to_anchor=(1.05, 1), loc='upper left')\n",
    "plt.show()\n",
    "\n",
    "# fig.savefig('Training_points_2D_convection.png', dpi = 500, bbox_inches='tight')"
   ]
  },
  {
   "cell_type": "markdown",
   "id": "2e8fab5d",
   "metadata": {},
   "source": [
    "# GPU Setting (Run This ONLY in Our Workstation 2)"
   ]
  },
  {
   "cell_type": "code",
   "execution_count": 629,
   "id": "bd778dd4",
   "metadata": {},
   "outputs": [],
   "source": [
    "# Device configuration\n",
    "device = torch.device('cuda' if torch.cuda.is_available() else 'cpu')"
   ]
  },
  {
   "cell_type": "code",
   "execution_count": 630,
   "id": "6e25df9c",
   "metadata": {},
   "outputs": [],
   "source": [
    "# Store tensors to GPU\n",
    "\n",
    "# Boundary conditions\n",
    "X_train_Nu=X_train_BC.float().to(device) # Training Points (BC)\n",
    "Y_train_Nu=Y_train_BC.float().to(device) # Training Points (BC)\n",
    "\n",
    "x_BC_lower_T= lower_bound_y.float().to(device)\n",
    "y_BC_lower_T= lower_bound_T.float().to(device)\n",
    "\n",
    "x_BC_lower_u= lower_bound_y.float().to(device)\n",
    "y_BC_lower_u= lower_bound_U.float().to(device)\n",
    "\n",
    "x_BC_upper_u= upper_bound_y.float().to(device)\n",
    "y_BC_upper_u= upper_bound_U.float().to(device)\n",
    "\n",
    "# x_BC_inlet_u= inlet_bound_y.float().to(device)\n",
    "# y_BC_inlet_u= inlet_bound_U.float().to(device)\n",
    "\n",
    "x_BC_inlet_p= inlet_bound_y.float().to(device)\n",
    "y_BC_inlet_p= inlet_bound_p.float().to(device)\n",
    "\n",
    "# x_BC_inlet_v= inlet_bound_y.float().to(device)\n",
    "# y_BC_inlet_v= inlet_bound_V.float().to(device)\n",
    "\n",
    "x_BC_inlet_T= inlet_bound_y.float().to(device)\n",
    "y_BC_inlet_T= inlet_bound_T.float().to(device)\n",
    "\n",
    "x_BC_outlet_p= outlet_bound_y.float().to(device)\n",
    "y_BC_outlet_p= outlet_bound_p.float().to(device)\n",
    "\n",
    "# Sensor data\n",
    "X_train_CFD_T=X_train_CFD_T.float().to(device) # Training Points (CFD)\n",
    "Y_train_CFD_T=Y_train_CFD_T.float().to(device) # Training Points (CFD)\n",
    "\n",
    "X_train_CFD_U=X_train_CFD_U.float().to(device) # Training Points (CFD)\n",
    "Y_train_CFD_U=Y_train_CFD_U.float().to(device) # Training Points (CFD)\n",
    "\n",
    "X_train_CFD_V=X_train_CFD_V.float().to(device) # Training Points (CFD)\n",
    "Y_train_CFD_V=Y_train_CFD_V.float().to(device) # Training Points (CFD)\n",
    "\n",
    "X_train_CFD_P=X_train_CFD_P.float().to(device) # Training Points (CFD)\n",
    "Y_train_CFD_P=Y_train_CFD_P.float().to(device) # Training Points (CFD)\n",
    "\n",
    "# Inner domain collocation points\n",
    "X_train_Nf=X_train_Nf.float().to(device) # Collocation Points\n",
    "f_hat = torch.zeros(X_train_Nf.shape[0],1).to(device) # To minimize function\n",
    "\n",
    "X_plot=x_plot.float().to(device) # the input dataset (complete)\n",
    "# Y_test=y_test.float().to(device) # the real solution "
   ]
  },
  {
   "cell_type": "markdown",
   "id": "5166bef4",
   "metadata": {},
   "source": [
    "# Define Neural Network and Loss Functions"
   ]
  },
  {
   "cell_type": "code",
   "execution_count": 3,
   "id": "45ce7878",
   "metadata": {},
   "outputs": [],
   "source": [
    "class FCN(nn.Module):\n",
    "\n",
    "    ## Neural Network\n",
    "    def __init__(self,layers):\n",
    "        super().__init__() #call __init__ from parent class \n",
    "        \n",
    "        'activation function'\n",
    "        self.activation = nn.Tanh()\n",
    "        'loss function'\n",
    "        self.loss_function = nn.MSELoss(reduction ='mean')\n",
    "        'Initialise neural network as a list using nn.Modulelist'  \n",
    "        self.linears = nn.ModuleList([nn.Linear(layers[i], layers[i+1]) for i in range(len(layers)-1)]) # Neural Network\n",
    "        self.iter = 0 #For the Optimizer\n",
    "        'Xavier Normal Initialization'\n",
    "        for i in range(len(layers)-1):\n",
    "            nn.init.xavier_normal_(self.linears[i].weight.data, gain=1.0)\n",
    "            # set biases to zero\n",
    "            nn.init.zeros_(self.linears[i].bias.data)\n",
    "                        \n",
    "        'foward pass'     \n",
    "    def forward(self,x):\n",
    "        if torch.is_tensor(x) != True:         \n",
    "            x = torch.from_numpy(x)                \n",
    "        a = x.float()\n",
    "        for i in range(len(layers)-2):  \n",
    "            z = self.linears[i](a)               \n",
    "            a = self.activation(z)    \n",
    "        a = self.linears[-1](a)            # Neural network feedforard output\n",
    "        return a\n",
    "      \n",
    "    ## Boundary condition losses\n",
    "\n",
    "    # Temperature at x = 0\n",
    "    def lossBC_inletT(self,x_BC_inlet_T,y_BC_inlet_T):\n",
    "        \n",
    "        predict = self.forward(x_BC_inlet_T)\n",
    "        input_inlet_T=predict[:,2]\n",
    "        input_inlet_T=input_inlet_T.unsqueeze(1) \n",
    "        loss_BC_inlet_T=self.loss_function(input_inlet_T,y_BC_inlet_T)\n",
    "        \n",
    "        return loss_BC_inlet_T\n",
    "    \n",
    "    # Temperature at y = 0\n",
    "    def lossBC_lowerT(self,x_BC_lower_T,y_BC_lower_T):\n",
    "        \n",
    "        predict = self.forward(x_BC_lower_T)\n",
    "        input_lower_T=predict[:,2]\n",
    "        input_lower_T=input_lower_T.unsqueeze(1) \n",
    "        loss_BC_lower_T=self.loss_function(input_lower_T,y_BC_lower_T)\n",
    "        \n",
    "        return loss_BC_lower_T  \n",
    "       \n",
    "    # u-velocity at x = 0    \n",
    "    def lossBC_inletu(self,x_BC_inlet_u,y_BC_inlet_u): \n",
    "        \n",
    "        input_inlet_u=self.forward(x_BC_inlet_u)[:,0]\n",
    "        input_inlet_u=input_inlet_u.unsqueeze(1) \n",
    "        loss_BC_inlet_u=self.loss_function(input_inlet_u,y_BC_inlet_u)\n",
    "        \n",
    "        return loss_BC_inlet_u\n",
    "    \n",
    "    # u-velocity at y = 0\n",
    "    def lossBC_loweru(self,x_BC_lower_u,y_BC_lower_u): \n",
    "        \n",
    "        input_lower_u=self.forward(x_BC_lower_u)[:,0]\n",
    "        input_lower_u=input_lower_u.unsqueeze(1) \n",
    "        loss_BC_lower_u=self.loss_function(input_lower_u,y_BC_lower_u)\n",
    "        \n",
    "        return loss_BC_lower_u\n",
    "    \n",
    "    # u-velocity at y = 1\n",
    "    def lossBC_upperu(self,x_BC_upper_u,y_BC_upper_u):\n",
    "        \n",
    "        input_upper_u=self.forward(x_BC_upper_u)[:,0]\n",
    "        input_upper_u=input_upper_u.unsqueeze(1) \n",
    "        loss_BC_upper_u=self.loss_function(input_upper_u,y_BC_upper_u)\n",
    "        \n",
    "        return loss_BC_upper_u\n",
    "    \n",
    "    # v-velocity at x = 0\n",
    "# #     def lossBC_inletv(self,x_BC_inlet_v,y_BC_inlet_v): \n",
    "        \n",
    "# #         input_inlet_v=self.forward(x_BC_inlet_v)[:,1]\n",
    "# #         input_inlet_v=input_inlet_v.unsqueeze(1) \n",
    "# #         loss_BC_inlet_v=self.loss_function(input_inlet_v,y_BC_inlet_v)\n",
    "        \n",
    "#         return loss_BC_inlet_u\n",
    "\n",
    "    # Pressure at x = 0\n",
    "    def lossBC_inletp(self,x_BC_inlet_p,y_BC_inlet_p):\n",
    "        \n",
    "        input_inlet_p=self.forward(x_BC_inlet_p)[:,1]\n",
    "        input_inlet_p= input_inlet_p.unsqueeze(1) \n",
    "        loss_BC_inlet_p=self.loss_function(input_inlet_p,y_BC_inlet_p)\n",
    "        \n",
    "        return loss_BC_inlet_p    \n",
    "\n",
    "    # Pressure at x = 1\n",
    "    def lossBC_outletp(self,x_BC_outlet_p,y_BC_outlet_p):\n",
    "        \n",
    "        input_outlet_p=self.forward(x_BC_outlet_p)[:,1]\n",
    "        input_outlet_p= input_outlet_p.unsqueeze(1) \n",
    "        loss_BC_outlet_p=self.loss_function(input_outlet_p,y_BC_outlet_p)\n",
    "        \n",
    "        return loss_BC_outlet_p\n",
    " \n",
    "    \n",
    "    ## Sensor data losses\n",
    "    \n",
    "    # Temperature data\n",
    "    def lossCFD_T(self,X_train_CFD_T,Y_train_CFD_T):\n",
    "        \n",
    "        input_CFD_T=self.forward(X_train_CFD_T)[:,2]\n",
    "        input_CFD_T=input_CFD_T.unsqueeze(1) \n",
    "        loss_CFD_T=self.loss_function(input_CFD_T,Y_train_CFD_T)\n",
    "        \n",
    "        return loss_CFD_T\n",
    "    \n",
    "    # u-velocity data\n",
    "    def lossCFD_U(self, X_train_CFD_U,Y_train_CFD_U):\n",
    "        \n",
    "        input_CFD_U=self.forward(X_train_CFD_U)[:,0]\n",
    "        input_CFD_U=input_CFD_U.unsqueeze(1)\n",
    "        loss_CFD_U=self.loss_function(input_CFD_U,Y_train_CFD_U)\n",
    "        \n",
    "        return loss_CFD_U\n",
    "    \n",
    "    # v-velocity data\n",
    "#     def lossCFD_V(self, X_train_CFD_V,Y_train_CFD_V):\n",
    "        \n",
    "#         input_CFD_V=self.forward( X_train_CFD_V)[:,1]\n",
    "#         input_CFD_V=input_CFD_V.unsqueeze(1)\n",
    "#         loss_CFD_V=self.loss_function(input_CFD_V,Y_train_CFD_V)\n",
    "        \n",
    "#         return loss_CFD_V\n",
    "    \n",
    "    # Pressure data\n",
    "    def lossCFD_P(self,X_train_CFD_P,Y_train_CFD_P):\n",
    "        \n",
    "        input_CFD_P=self.forward(X_train_CFD_P)[:,1]\n",
    "        input_CFD_P=input_CFD_P.unsqueeze(1)\n",
    "        loss_CFD_P=self.loss_function(input_CFD_P,Y_train_CFD_P)\n",
    "        \n",
    "        return loss_CFD_P\n",
    "    \n",
    "    ## Inner collocation datapoints losses (PDE losses)\n",
    "    \n",
    "    # Mass conservation\n",
    "    def lossPDE_continuity(self,x_PDE):\n",
    "        \n",
    "        g=x_PDE.clone()\n",
    "        g.requires_grad=True # Enable differentiation\n",
    "        forward_output = self.forward(g)\n",
    "\n",
    "        u=forward_output[:,0]\n",
    "        u=u.unsqueeze(1)     # Converting 1D to 2D tensor ([1200] vs [1200,1])\n",
    "        \n",
    "#         v=forward_output[:,1]\n",
    "#         v=v.unsqueeze(1)\n",
    "\n",
    "        # Computes the sum of gradients of outputs with respect to the inputs\n",
    "        # autograd.grad(outputs,inputs)\n",
    "        u_x_y = autograd.grad(u,g,torch.ones([g.shape[0], 1]).to(device), retain_graph=True, create_graph=True)[0] #first derivative    \n",
    "#         v_x_y = autograd.grad(v,g,torch.ones([g.shape[0], 1]).to(device), retain_graph=True, create_graph=True)[0] #first derivative\n",
    "      \n",
    "      ### LESLIE: As each u_x_y, u_xx_yy are single values (i.e. X not [X, Y, ...]), you can't access using multiple indices\n",
    "        \n",
    "        u_x=u_x_y[:,[0]]     # Select the 1st element for x-derivative (Remember input X=[x,y]) \n",
    "        u_y=u_x_y[:,[1]]     # Select the 2nd element for y-derivative (Remember input X=[x,y]) \n",
    "    \n",
    "#         v_x=v_x_y[:,[0]]\n",
    "#         v_y=v_x_y[:,[1]]\n",
    "        \n",
    "        #loss_continuity = u_x - v_y\n",
    "        loss_continuity =  u_x\n",
    "        \n",
    "        return self.loss_function(loss_continuity,f_hat)\n",
    "\n",
    "    # x-momentum conservation\n",
    "    def lossPDE_x_momentum(self,x_PDE,Re):\n",
    "        \n",
    "        g=x_PDE.clone()\n",
    "        g.requires_grad=True # Enable differentiation\n",
    "        forward_output = self.forward(g)\n",
    "\n",
    "        u=forward_output[:,0]\n",
    "        u=u.unsqueeze(1)         # converting 1D to 2D tensor ([1200] vs [1200,1])\n",
    "        \n",
    "#         v=forward_output[:,1]\n",
    "#         v=v.unsqueeze(0)\n",
    "#         v=torch.transpose(v,0,1)\n",
    "    \n",
    "        p=forward_output[:,1]\n",
    "        p=p.unsqueeze(1)\n",
    "\n",
    "        # Computes the sum of gradients of outputs with respect to the inputs\n",
    "        u_x_y = autograd.grad(u,g,torch.ones([g.shape[0], 1]).to(device), retain_graph=True, create_graph=True)[0] #first derivative\n",
    "        u_xx_yy = autograd.grad(u_x_y,g,torch.ones(g.shape).to(device), create_graph=True)[0] #second derivative\n",
    "    \n",
    "#         v_x_y = autograd.grad(v,g,torch.ones([g.shape[0], 1]).to(device), retain_graph=True, create_graph=True)[0] #first derivative\n",
    "#         v_xx_yy = autograd.grad(v_x_y,g,torch.ones(g.shape).to(device), create_graph=True)[0] #second derivative\n",
    "    \n",
    "        p_x_y = autograd.grad(p,g,torch.ones([g.shape[0], 1]).to(device), retain_graph=True, create_graph=True)[0] #first derivative\n",
    "        p_xx_yy = autograd.grad(p_x_y,g,torch.ones(g.shape).to(device), create_graph=True)[0] #second derivative\n",
    "        \n",
    "        u_x=u_x_y[:,[0]] # Select the 1st element for x-derivative (Remember input X=[x,y]) \n",
    "        u_y=u_x_y[:,[1]] # Select the 2nd element for y-derivative (Remember input X=[x,y]) \n",
    "        u_xx=u_xx_yy[:,[0]] \n",
    "        u_yy=u_xx_yy[:,[1]] \n",
    "    \n",
    "#         v_x=v_x_y[:,[0]] \n",
    "#         v_y=v_x_y[:,[1]]\n",
    "#         v_xx=v_xx_yy[:,[0]] \n",
    "#         v_yy=v_xx_yy[:,[1]]\n",
    "    \n",
    "        p_x=p_x_y[:,[0]] \n",
    "        p_y=p_x_y[:,[1]]\n",
    "        p_xx=p_xx_yy[:,[0]] \n",
    "        p_yy=p_xx_yy[:,[1]]\n",
    "      \n",
    "        loss_x_momentum = u*u_x + p_x-((1/Re)*(u_xx+u_yy))\n",
    "                \n",
    "        return  self.loss_function(loss_x_momentum,f_hat)\n",
    "    \n",
    "    # y-momentum conservation\n",
    "    def lossPDE_y_momentum(self,x_PDE,Re):\n",
    "        \n",
    "        g=x_PDE.clone()\n",
    "        g.requires_grad=True #Enable differentiation\n",
    "        forward_output = self.forward(g)\n",
    "        \n",
    "        u=forward_output[:,0]\n",
    "        u=u.unsqueeze(1)         # converting 1D to 2D tensor ([1200] vs [1200,1])\n",
    "        \n",
    "#         v=forward_output[:,1]\n",
    "#         v=v.unsqueeze(0)\n",
    "#         v=torch.transpose(v,0,1)\n",
    "    \n",
    "        p=forward_output[:,1]\n",
    "        p=p.unsqueeze(1)\n",
    "        \n",
    "        # Computes the sum of gradients of outputs with respect to the inputs\n",
    "        u_x_y = autograd.grad(u,g,torch.ones([g.shape[0], 1]).to(device), retain_graph=True, create_graph=True)[0] #first derivative\n",
    "        u_xx_yy = autograd.grad(u_x_y,g,torch.ones(g.shape).to(device), create_graph=True)[0] #second derivative\n",
    "    \n",
    "#         v_x_y = autograd.grad(v,g,torch.ones([g.shape[0], 1]).to(device), retain_graph=True, create_graph=True)[0] #first derivative\n",
    "#         v_xx_yy = autograd.grad(v_x_y,g,torch.ones(g.shape).to(device), create_graph=True)[0] #second derivative\n",
    "    \n",
    "        p_x_y = autograd.grad(p,g,torch.ones([g.shape[0], 1]).to(device), retain_graph=True, create_graph=True)[0] #first derivative\n",
    "        p_xx_yy = autograd.grad(p_x_y,g,torch.ones(g.shape).to(device), create_graph=True)[0] #second derivative\n",
    "        \n",
    "        u_x=u_x_y[:,[0]] # Select the 1st element for x-derivative (Remember input X=[x,y]) \n",
    "        u_y=u_x_y[:,[1]] # Select the 2nd element for y-derivative (Remember input X=[x,y]) \n",
    "        u_xx=u_xx_yy[:,[0]]\n",
    "        u_yy=u_xx_yy[:,[1]]\n",
    "    \n",
    "#         v_x=v_x_y[:,[0]] \n",
    "#         v_y=v_x_y[:,[1]]\n",
    "#         v_xx=v_xx_yy[:,[0]] \n",
    "#         v_yy=v_xx_yy[:,[1]]\n",
    "    \n",
    "        p_x=p_x_y[:,[0]] \n",
    "        p_y=p_x_y[:,[1]]\n",
    "        p_xx=p_xx_yy[:,[0]] \n",
    "        p_yy=p_xx_yy[:,[1]]\n",
    "        \n",
    "#         loss_y_momentum = u*v_x + v*v_y + p_y-((1/Re)*(v_xx+v_yy))\n",
    "        loss_y_momentum =  p_y\n",
    "        \n",
    "        return  self.loss_function(loss_y_momentum,f_hat)\n",
    "    \n",
    "    # Energy conservation\n",
    "    def lossPDE_energy(self,x_PDE,Pe):\n",
    "        \n",
    "        g=x_PDE.clone()\n",
    "        g.requires_grad=True #Enable differentiation\n",
    "        forward_output = self.forward(g)\n",
    "        \n",
    "        u=forward_output[:,0]\n",
    "        u=u.unsqueeze(1)         # converting 1D to 2D tensor ([1200] vs [1200,1])\n",
    "\n",
    "#         v=forward_output[:,1]\n",
    "#         v=v.unsqueeze(0)\n",
    "#         v=torch.transpose(v,0,1)\n",
    "    \n",
    "        T=forward_output[:,2]\n",
    "        T=T.unsqueeze(0)\n",
    "        T=torch.transpose(T,0,1)\n",
    "    \n",
    "        # Computes the sum of gradients of outputs with respect to the inputs\n",
    "        T_x_y = autograd.grad(T,g,torch.ones([g.shape[0], 1]).to(device), retain_graph=True, create_graph=True)[0] #first derivative\n",
    "        T_xx_yy = autograd.grad(T_x_y,g,torch.ones(g.shape).to(device), create_graph=True)[0] #second derivative\n",
    "    \n",
    "        T_x=T_x_y[:,[0]] # Select the 1st element for x-derivative (Remember input X=[x,y]) \n",
    "        T_y=T_x_y[:,[1]] # Select the 2nd element for y-derivative (Remember input X=[x,y]) \n",
    "        T_xx=T_xx_yy[:,[0]] \n",
    "        T_yy=T_xx_yy[:,[1]]\n",
    "        \n",
    "        loss_energy = u*T_x - (1/Pe)*(T_xx +T_yy)\n",
    "        \n",
    "        return  self.loss_function(loss_energy,f_hat)                 \n",
    "    \n",
    "    #LGFBS                 \n",
    "    #def closure(self):\n",
    "        #optimizer.zero_grad()  \n",
    "        #loss = self.loss(x_BC_lower_T,y_BC_lower_T,x_BC_inlet_u,y_BC_inlet_u,x_BC_inlet_T,y_BC_inlet_T,\n",
    "                         #x_BC_outlet_p,y_BC_outlet_p,X_train_CFD_T,Y_train_CFD_T,X_train_CFD_U,Y_train_CFD_U,x_CFD_P,y_CFD_P,X_train_Nf)\n",
    "#         loss.backward()      \n",
    "#         self.iter += 1\n",
    "#         if self.iter % 100 == 0:\n",
    "            \n",
    "#             print(\"Training Error:\",loss.detach().cpu().numpy())\n",
    "#         return loss"
   ]
  },
  {
   "cell_type": "markdown",
   "id": "7b4850f1",
   "metadata": {},
   "source": [
    "# Generate PINN"
   ]
  },
  {
   "cell_type": "code",
   "execution_count": null,
   "id": "56b6cc18",
   "metadata": {},
   "outputs": [],
   "source": [
    "PINN = FCN(layers)\n",
    "PINN.to(device)\n",
    "print(PINN)\n",
    "\n",
    "params = list(PINN.parameters())\n",
    "optimizer = torch.optim.Adam(PINN.parameters(),lr=lr,amsgrad=False)"
   ]
  },
  {
   "cell_type": "markdown",
   "id": "0acdcf6a",
   "metadata": {},
   "source": [
    "# Train PINN"
   ]
  },
  {
   "cell_type": "code",
   "execution_count": null,
   "id": "1dc4b259",
   "metadata": {},
   "outputs": [],
   "source": [
    "# Define arrays to store losses over epochs\n",
    "\n",
    "# Total loss\n",
    "l = np.zeros(epochs)\n",
    "\n",
    "# PDE losses\n",
    "l_pde_continuity = np.zeros(epochs)\n",
    "l_pde_x_momentum = np.zeros(epochs)\n",
    "l_pde_y_momentum = np.zeros(epochs)\n",
    "l_pde_energy = np.zeros(epochs)\n",
    "\n",
    "# Boundary condition losses\n",
    "l_bc_inlet_T = np.zeros(epochs)\n",
    "l_bc_lower_T = np.zeros(epochs)\n",
    "# l_bc_inlet_u = np.zeros(epochs)\n",
    "l_bc_inlet_p = np.zeros(epochs)\n",
    "# l_bc_inlet_v = np.zeros(epochs)\n",
    "l_bc_lower_u = np.zeros(epochs)\n",
    "l_bc_upper_u = np.zeros(epochs)\n",
    "l_bc_outlet_p = np.zeros(epochs)\n",
    "\n",
    "# Sensor data losses\n",
    "l_cfd_T = np.zeros(epochs)\n",
    "l_cfd_u = np.zeros(epochs)\n",
    "# l_cfd_v = np.zeros(epochs)\n",
    "l_cfd_p = np.zeros(epochs)\n",
    "\n",
    "# Training loop\n",
    "for i in range(epochs):\n",
    "    \n",
    "#     loss = PINN.loss(x_BC_lower_T,y_BC_lower_T,x_BC_inlet_u,y_BC_inlet_u,x_BC_inlet_T,y_BC_inlet_T,\n",
    "#                      x_BC_outlet_p,y_BC_outlet_p,x_BC_lower_u,y_BC_lower_u,x_BC_upper_u,y_BC_upper_u,\n",
    "#                      X_train_CFD_T,Y_train_CFD_T,X_train_CFD_U,Y_train_CFD_U,X_train_CFD_V,Y_train_CFD_V,\n",
    "#                      X_train_CFD_P,Y_train_CFD_P,X_train_Nf)\n",
    "        \n",
    "#     loss_pde=PINN.lossPDE(X_train_Nf)\n",
    "\n",
    "    ## Loss calculations\n",
    "    # PDE losses\n",
    "    loss_con = PINN.lossPDE_continuity(X_train_Nf)\n",
    "    loss_mom_x = PINN.lossPDE_x_momentum(X_train_Nf,Re)\n",
    "    loss_mom_y = PINN.lossPDE_y_momentum(X_train_Nf,Re)\n",
    "    loss_ene = PINN.lossPDE_energy(X_train_Nf,Pe)\n",
    "    \n",
    "    # Boundary condition losses\n",
    "    lossBC_inlet_T = PINN.lossBC_inletT(x_BC_inlet_T,y_BC_inlet_T)\n",
    "    lossBC_lower_T = PINN.lossBC_lowerT(x_BC_lower_T,y_BC_lower_T)\n",
    "#     lossBC_inlet_u = PINN.lossBC_inletu(x_BC_inlet_u,y_BC_inlet_u)\n",
    "    lossBC_upper_u = PINN.lossBC_upperu(x_BC_upper_u,y_BC_upper_u)\n",
    "    lossBC_lower_u = PINN.lossBC_loweru(x_BC_lower_u,y_BC_lower_u)\n",
    "#     lossBC_inlet_v = PINN.lossBC_inletu(x_BC_inlet_v,y_BC_inlet_v)\n",
    "    lossBC_inlet_p = PINN.lossBC_inletp(x_BC_inlet_p,y_BC_inlet_p)\n",
    "    lossBC_outlet_p = PINN.lossBC_outletp(x_BC_outlet_p,y_BC_outlet_p)\n",
    "    \n",
    "    # Sensor data losses\n",
    "    loss_CFD_T=PINN.lossCFD_T(X_train_CFD_T,Y_train_CFD_T)\n",
    "    loss_CFD_U=PINN.lossCFD_U(X_train_CFD_U,Y_train_CFD_U)\n",
    "#     loss_CFD_V=PINN.lossCFD_V(X_train_CFD_V,Y_train_CFD_V)\n",
    "    loss_CFD_P=PINN.lossCFD_P(X_train_CFD_P,Y_train_CFD_P)\n",
    "       \n",
    "    # Total loss\n",
    "    loss =(lossBC_inlet_T+lossBC_lower_T+lossBC_upper_u+lossBC_lower_u+lossBC_outlet_p+lossBC_inlet_p\n",
    "           +loss_con+loss_mom_x+ loss_mom_y+loss_ene+loss_CFD_U+loss_CFD_T+loss_CFD_P)\n",
    "    \n",
    "    optimizer.zero_grad()\n",
    "    loss.backward()\n",
    "    optimizer.step()\n",
    "    \n",
    "    # Saving the losses\n",
    "    l[i] = loss\n",
    "\n",
    "    l_bc_inlet_T[i] = lossBC_inlet_T\n",
    "    l_bc_lower_T[i] = lossBC_lower_T\n",
    "#     l_bc_inlet_u[i] = lossBC_inlet_u\n",
    "#     l_bc_inlet_v[i] = lossBC_inlet_v\n",
    "    l_bc_lower_u[i] = lossBC_upper_u\n",
    "    l_bc_upper_u[i] =  lossBC_lower_u\n",
    "    l_bc_inlet_p[i] =  lossBC_inlet_p\n",
    "    l_bc_outlet_p[i] =  lossBC_outlet_p\n",
    "    \n",
    "    l_cfd_T[i] = loss_CFD_T\n",
    "    l_cfd_u[i] = loss_CFD_U\n",
    "#     l_cfd_v[i] = loss_CFD_V\n",
    "    l_cfd_p[i] = loss_CFD_P\n",
    "    \n",
    "    l_pde_continuity[i] = loss_con\n",
    "    l_pde_x_momentum[i] = loss_mom_x\n",
    "    l_pde_y_momentum[i] = loss_mom_y\n",
    "    l_pde_energy[i] = loss_ene\n",
    "\n",
    "    # print(\"training loss:\", loss)"
   ]
  },
  {
   "cell_type": "code",
   "execution_count": 17,
   "id": "54080293",
   "metadata": {},
   "outputs": [],
   "source": [
    "# Save the trainned model to disk\n",
    "torch.save(PINN.state_dict(),filename)"
   ]
  },
  {
   "cell_type": "markdown",
   "id": "f2ad2e1a",
   "metadata": {},
   "source": [
    "# Loss Plots"
   ]
  },
  {
   "cell_type": "code",
   "execution_count": 825,
   "id": "2ca2565c",
   "metadata": {},
   "outputs": [
    {
     "data": {
      "image/png": "[encoded data removed]",
      "text/plain": [
       "<Figure size 864x144 with 1 Axes>"
      ]
     },
     "metadata": {
      "needs_background": "light"
     },
     "output_type": "display_data"
    }
   ],
   "source": [
    "iteration = np.linspace(0,epochs,epochs)\n",
    "\n",
    "# Total loss\n",
    "plt.plot(iteration,l)\n",
    "\n",
    "plt.rcParams[\"figure.figsize\"] =  [7, 5]\n",
    "plt.rcParams[\"figure.autolayout\"] = True\n",
    "\n",
    "# Boundary condition losses\n",
    "plt.plot(iteration,l_bc_inlet_T)\n",
    "plt.plot(iteration,l_bc_lower_T)\n",
    "\n",
    "# Sensor data losses\n",
    "plt.plot(iteration, l_cfd_T)\n",
    "plt.plot(iteration, l_cfd_u)\n",
    "# plt.plot(iteration, l_cfd_v)\n",
    "plt.plot(iteration,l_cfd_p)\n",
    "\n",
    "plt.title(\"Traing Loss Convergence\",size=15)\n",
    "plt.xlabel(\"Epochs\",size=15)\n",
    "plt.ylabel(\"Loss\",size=15)\n",
    "plt.legend(['Total loss','boundary loss', 'PDE loss','CFD_Tloss','CFD_uloss','CFD_ploss'])\n",
    "\n",
    "plt.show()"
   ]
  },
  {
   "cell_type": "code",
   "execution_count": 826,
   "id": "aaf4b314",
   "metadata": {},
   "outputs": [
    {
     "data": {
      "image/png": "[encoded data removed]",
      "text/plain": [
       "<Figure size 504x360 with 1 Axes>"
      ]
     },
     "metadata": {
      "needs_background": "light"
     },
     "output_type": "display_data"
    }
   ],
   "source": [
    "# Total loss\n",
    "plt.plot(iteration,l)\n",
    "\n",
    "plt.rcParams[\"figure.figsize\"] =  [7, 5]\n",
    "plt.rcParams[\"figure.autolayout\"] = True\n",
    "\n",
    "plt.title(\"Traing Loss Convergence\",size=15)\n",
    "plt.xlabel(\"Epochs\",size=15)\n",
    "plt.ylabel(\"Total Loss\",size=15)\n",
    "\n",
    "plt.show()"
   ]
  },
  {
   "cell_type": "code",
   "execution_count": 827,
   "id": "d861d5ee",
   "metadata": {},
   "outputs": [
    {
     "data": {
      "image/png": "[encoded data removed]",
      "text/plain": [
       "<Figure size 504x360 with 1 Axes>"
      ]
     },
     "metadata": {
      "needs_background": "light"
     },
     "output_type": "display_data"
    }
   ],
   "source": [
    "# Inlet temperature boundary condition loss\n",
    "plt.plot(iteration, l_bc_inlet_T)\n",
    "\n",
    "plt.rcParams[\"figure.figsize\"] =  [7, 5]\n",
    "plt.rcParams[\"figure.autolayout\"] = True\n",
    "\n",
    "plt.title(\"Traing Loss Convergence\",size=15)\n",
    "plt.xlabel(\"Epochs\",size=15)\n",
    "plt.ylabel(\"Boundary T inlet Loss\",size=15)\n",
    "\n",
    "\n",
    "plt.show()"
   ]
  },
  {
   "cell_type": "code",
   "execution_count": 828,
   "id": "fc7255e2",
   "metadata": {},
   "outputs": [
    {
     "data": {
      "image/png": "[encoded data removed]",
      "text/plain": [
       "<Figure size 504x360 with 1 Axes>"
      ]
     },
     "metadata": {
      "needs_background": "light"
     },
     "output_type": "display_data"
    }
   ],
   "source": [
    "# Heated wall temperature boundary condition loss\n",
    "plt.plot(iteration, l_bc_lower_T)\n",
    "\n",
    "plt.rcParams[\"figure.figsize\"] =  [7, 5]\n",
    "plt.rcParams[\"figure.autolayout\"] = True\n",
    "\n",
    "plt.title(\"Traing Loss Convergence\",size=15)\n",
    "plt.xlabel(\"Epochs\",size=15)\n",
    "plt.ylabel(\"Boundary T lower Loss\",size=15)\n",
    "\n",
    "\n",
    "plt.show()"
   ]
  },
  {
   "cell_type": "code",
   "execution_count": 829,
   "id": "463026f7",
   "metadata": {},
   "outputs": [
    {
     "data": {
      "image/png": "[encoded data removed]",
      "text/plain": [
       "<Figure size 504x360 with 1 Axes>"
      ]
     },
     "metadata": {
      "needs_background": "light"
     },
     "output_type": "display_data"
    }
   ],
   "source": [
    "# Outlet pressure boundary condition loss\n",
    "plt.plot(iteration, l_bc_outlet_p)\n",
    "\n",
    "plt.rcParams[\"figure.figsize\"] =  [7, 5]\n",
    "plt.rcParams[\"figure.autolayout\"] = True\n",
    "\n",
    "plt.title(\"Traing Loss Convergence\",size=15)\n",
    "plt.xlabel(\"Epochs\",size=15)\n",
    "plt.ylabel(\"Boundary p outlet Loss\",size=15)\n",
    "\n",
    "\n",
    "plt.show()"
   ]
  },
  {
   "cell_type": "code",
   "execution_count": 830,
   "id": "eabcd55d",
   "metadata": {},
   "outputs": [
    {
     "data": {
      "image/png": "[encoded data removed]",
      "text/plain": [
       "<Figure size 504x360 with 1 Axes>"
      ]
     },
     "metadata": {
      "needs_background": "light"
     },
     "output_type": "display_data"
    }
   ],
   "source": [
    "# Mass conservation loss\n",
    "plt.plot(iteration,l_pde_continuity)\n",
    "\n",
    "plt.rcParams[\"figure.figsize\"] =  [7, 5]\n",
    "plt.rcParams[\"figure.autolayout\"] = True\n",
    "\n",
    "plt.title(\"Traing Loss Convergence\",size=15)\n",
    "plt.xlabel(\"Epochs\",size=15)\n",
    "plt.ylabel(\"PDE continuity Loss\",size=15)\n",
    "\n",
    "\n",
    "plt.show()"
   ]
  },
  {
   "cell_type": "code",
   "execution_count": 831,
   "id": "82cbd04a",
   "metadata": {},
   "outputs": [
    {
     "data": {
      "image/png": "[encoded data removed]",
      "text/plain": [
       "<Figure size 504x360 with 1 Axes>"
      ]
     },
     "metadata": {
      "needs_background": "light"
     },
     "output_type": "display_data"
    }
   ],
   "source": [
    "# x-momentum conservation loss\n",
    "plt.plot(iteration,l_pde_x_momentum)\n",
    "\n",
    "plt.rcParams[\"figure.figsize\"] =  [7, 5]\n",
    "plt.rcParams[\"figure.autolayout\"] = True\n",
    "\n",
    "plt.title(\"Traing Loss Convergence\",size=15)\n",
    "plt.xlabel(\"Epochs\",size=15)\n",
    "plt.ylabel(\"PDE x momentum Loss\",size=15)\n",
    "\n",
    "plt.show()"
   ]
  },
  {
   "cell_type": "code",
   "execution_count": 832,
   "id": "47c580d1",
   "metadata": {},
   "outputs": [
    {
     "data": {
      "image/png": "[encoded data removed]",
      "text/plain": [
       "<Figure size 504x360 with 1 Axes>"
      ]
     },
     "metadata": {
      "needs_background": "light"
     },
     "output_type": "display_data"
    }
   ],
   "source": [
    "# y-momentum conservation loss\n",
    "plt.plot(iteration,l_pde_y_momentum)\n",
    "\n",
    "plt.rcParams[\"figure.figsize\"] =  [7, 5]\n",
    "plt.rcParams[\"figure.autolayout\"] = True\n",
    "\n",
    "plt.title(\"Traing Loss Convergence\",size=15)\n",
    "plt.xlabel(\"Epochs\",size=15)\n",
    "plt.ylabel(\"PDE y momentum Loss\",size=15)\n",
    "\n",
    "plt.show()"
   ]
  },
  {
   "cell_type": "code",
   "execution_count": 833,
   "id": "d04c4e2c",
   "metadata": {},
   "outputs": [
    {
     "data": {
      "image/png": "[encoded data removed]",
      "text/plain": [
       "<Figure size 504x360 with 1 Axes>"
      ]
     },
     "metadata": {
      "needs_background": "light"
     },
     "output_type": "display_data"
    }
   ],
   "source": [
    "# Energy conservation loss\n",
    "plt.plot(iteration,l_pde_energy)\n",
    "\n",
    "plt.rcParams[\"figure.figsize\"] =  [7, 5]\n",
    "plt.rcParams[\"figure.autolayout\"] = True\n",
    "\n",
    "plt.title(\"Traing Loss Convergence\",size=15)\n",
    "plt.xlabel(\"Epochs\",size=15)\n",
    "plt.ylabel(\"PDE energy Loss\",size=15)\n",
    "\n",
    "plt.show()"
   ]
  },
  {
   "cell_type": "code",
   "execution_count": 834,
   "id": "4d29d682",
   "metadata": {},
   "outputs": [
    {
     "data": {
      "image/png": "[encoded data removed]",
      "text/plain": [
       "<Figure size 504x360 with 1 Axes>"
      ]
     },
     "metadata": {
      "needs_background": "light"
     },
     "output_type": "display_data"
    }
   ],
   "source": [
    "# Temperature sensor data loss\n",
    "plt.plot(iteration, l_cfd_T)\n",
    "\n",
    "plt.rcParams[\"figure.figsize\"] =  [7, 5]\n",
    "plt.rcParams[\"figure.autolayout\"] = True\n",
    "\n",
    "plt.title(\"Traing Loss Convergence\",size=15)\n",
    "plt.xlabel(\"Epochs\",size=15)\n",
    "plt.ylabel(\"CFD_T Loss\",size=15)\n",
    "\n",
    "plt.show()"
   ]
  },
  {
   "cell_type": "code",
   "execution_count": 835,
   "id": "dc863b69",
   "metadata": {},
   "outputs": [
    {
     "data": {
      "image/png": "[encoded data removed]",
      "text/plain": [
       "<Figure size 504x360 with 1 Axes>"
      ]
     },
     "metadata": {
      "needs_background": "light"
     },
     "output_type": "display_data"
    }
   ],
   "source": [
    "# u-velocity sensor data loss\n",
    "plt.plot(iteration,l_cfd_u)\n",
    "\n",
    "plt.rcParams[\"figure.figsize\"] =  [7, 5]\n",
    "plt.rcParams[\"figure.autolayout\"] = True\n",
    "\n",
    "plt.title(\"Traing Loss Convergence\",size=15)\n",
    "plt.xlabel(\"Epochs\",size=15)\n",
    "plt.ylabel(\"CFD_u Loss\",size=15)\n",
    "\n",
    "plt.show()"
   ]
  },
  {
   "cell_type": "code",
   "execution_count": 836,
   "id": "2672b32e",
   "metadata": {},
   "outputs": [],
   "source": [
    "# v-velocity sensor data loss\n",
    "# plt.plot(iteration,l_cfd_v)\n",
    "\n",
    "# plt.rcParams[\"figure.figsize\"] =  [7, 5]\n",
    "# plt.rcParams[\"figure.autolayout\"] = True\n",
    "\n",
    "# plt.title(\"Traing Loss Convergence\",size=15)\n",
    "# plt.xlabel(\"Epochs\",size=15)\n",
    "# plt.ylabel(\"CFD_v Loss\",size=15)\n",
    "\n",
    "# plt.show()"
   ]
  },
  {
   "cell_type": "code",
   "execution_count": 837,
   "id": "ddfceee5",
   "metadata": {},
   "outputs": [
    {
     "data": {
      "image/png": "[encoded data removed]",
      "text/plain": [
       "<Figure size 504x360 with 1 Axes>"
      ]
     },
     "metadata": {
      "needs_background": "light"
     },
     "output_type": "display_data"
    }
   ],
   "source": [
    "# Pressure sensor data loss\n",
    "plt.plot(iteration,l_cfd_p)\n",
    "plt.rcParams[\"figure.figsize\"] =  [7, 5]\n",
    "plt.rcParams[\"figure.autolayout\"] = True\n",
    "\n",
    "plt.title(\"Traing Loss Convergence\",size=15)\n",
    "plt.xlabel(\"Epochs\",size=15)\n",
    "plt.ylabel(\"CFD_p Loss\",size=15)\n",
    "\n",
    "plt.show()"
   ]
  },
  {
   "cell_type": "markdown",
   "id": "52043c11",
   "metadata": {},
   "source": [
    "# Visualization"
   ]
  },
  {
   "cell_type": "code",
   "execution_count": 838,
   "id": "3a185e3f",
   "metadata": {},
   "outputs": [],
   "source": [
    "y_predict_T_plot=PINN(X_plot)[:,2] # Collect temperature T\n",
    "\n",
    "y_predict_u_plot=PINN(X_plot)[:,0] # Collect velocity u\n",
    "\n",
    "# y_predict_v=PINN(X_test)[:,1] # Collect velocity v\n",
    "\n",
    "y_predict_p_plot=PINN(X_plot)[:,1] # Collect pressure P\n",
    "\n",
    "x=X_plot[:,0]\n",
    "y=X_plot[:,1]\n",
    "\n",
    "X=x.reshape(shape=[50,50]).transpose(1,0).detach().cpu()\n",
    "Y=y.reshape(shape=[50,50]).transpose(1,0).detach().cpu()\n",
    "\n",
    "Y_predict_T_plot=y_predict_T_plot.reshape(shape=[50,50]).transpose(1,0).detach().cpu()\n",
    "\n",
    "Y_predict_u_plot=y_predict_u_plot.reshape(shape=[50,50]).transpose(1,0).detach().cpu()\n",
    "\n",
    "Y_predict_p_plot=y_predict_p_plot.reshape(shape=[50,50]).transpose(1,0).detach().cpu()"
   ]
  },
  {
   "cell_type": "code",
   "execution_count": 839,
   "id": "6b2a738d",
   "metadata": {},
   "outputs": [],
   "source": [
    "def plot3D_Matrix_T(t,x,y):\n",
    "  X,T= x,t\n",
    "  F_xt = y\n",
    "  fig,ax=plt.subplots(1,1)\n",
    "\n",
    "  plt.rcParams[\"figure.figsize\"] = [12, 2]\n",
    "  plt.rcParams[\"figure.autolayout\"] = True\n",
    "\n",
    "  cp = ax.contourf(T,X, F_xt,20,cmap=\"rainbow\")\n",
    "\n",
    "  fig.colorbar(cp) # Add a colorbar to a plot\n",
    "  ax.set_title('T')\n",
    "  ax.set_xlabel('X')\n",
    "  ax.set_ylabel('Y')\n",
    "  plt.show()"
   ]
  },
  {
   "cell_type": "code",
   "execution_count": 840,
   "id": "fc8786f5",
   "metadata": {},
   "outputs": [],
   "source": [
    "def plot3D_Matrix_u(t,x,y):\n",
    "  X,T= x,t\n",
    "  F_xt = y\n",
    "  fig,ax=plt.subplots(1,1)\n",
    "  cp = ax.contourf(T,X, F_xt,20,cmap=\"rainbow\")\n",
    "  plt.rcParams[\"figure.figsize\"] = [12, 2]\n",
    "  plt.rcParams[\"figure.autolayout\"] = True\n",
    "  fig.colorbar(cp) # Add a colorbar to a plot\n",
    "  ax.set_title('u')\n",
    "  ax.set_xlabel('X')\n",
    "  ax.set_ylabel('Y')\n",
    "  plt.show()"
   ]
  },
  {
   "cell_type": "code",
   "execution_count": 841,
   "id": "6543bbbe",
   "metadata": {},
   "outputs": [],
   "source": [
    "def plot3D_Matrix_v(t,x,y):\n",
    "  X,T= x,t\n",
    "  F_xt = y\n",
    "  fig,ax=plt.subplots(1,1)\n",
    "  cp = ax.contourf(T,X, F_xt,20,cmap=\"rainbow\")\n",
    "  plt.rcParams[\"figure.figsize\"] =  [12, 2]\n",
    "  plt.rcParams[\"figure.autolayout\"] = True\n",
    "  fig.colorbar(cp) # Add a colorbar to a plot\n",
    "  ax.set_title('v')\n",
    "  ax.set_xlabel('X')\n",
    "  ax.set_ylabel('Y')\n",
    "  plt.show()"
   ]
  },
  {
   "cell_type": "code",
   "execution_count": 842,
   "id": "02725f01",
   "metadata": {},
   "outputs": [],
   "source": [
    "def plot3D_Matrix_p(t,x,y):\n",
    "  X,T= x,t\n",
    "  F_xt = y\n",
    "  fig,ax=plt.subplots(1,1)\n",
    "  cp = ax.contourf(T,X, F_xt,20,cmap=\"rainbow\")\n",
    "  plt.rcParams[\"figure.figsize\"] =  [12, 2]\n",
    "  plt.rcParams[\"figure.autolayout\"] = True\n",
    "  fig.colorbar(cp) # Add a colorbar to a plot\n",
    "  ax.set_title('P')\n",
    "  ax.set_xlabel('X')\n",
    "  ax.set_ylabel('Y')\n",
    "  plt.show()"
   ]
  },
  {
   "cell_type": "code",
   "execution_count": 843,
   "id": "e787f40e",
   "metadata": {},
   "outputs": [
    {
     "data": {
      "image/png": "[encoded data removed]",
      "text/plain": [
       "<Figure size 504x360 with 2 Axes>"
      ]
     },
     "metadata": {
      "needs_background": "light"
     },
     "output_type": "display_data"
    }
   ],
   "source": [
    "plot3D_Matrix_T(X,Y,Y_predict_T_plot)"
   ]
  },
  {
   "cell_type": "code",
   "execution_count": 844,
   "id": "3cf936d0",
   "metadata": {},
   "outputs": [
    {
     "data": {
      "image/png": "[encoded data removed]",
      "text/plain": [
       "<Figure size 864x144 with 2 Axes>"
      ]
     },
     "metadata": {
      "needs_background": "light"
     },
     "output_type": "display_data"
    }
   ],
   "source": [
    "plot3D_Matrix_u(X,Y,Y_predict_u_plot)"
   ]
  },
  {
   "cell_type": "code",
   "execution_count": 845,
   "id": "213fd3f1",
   "metadata": {},
   "outputs": [],
   "source": [
    "# plot3D_Matrix_v(X,Y,Y_predict_v)"
   ]
  },
  {
   "cell_type": "code",
   "execution_count": 846,
   "id": "e3317195",
   "metadata": {},
   "outputs": [
    {
     "data": {
      "image/png": "[encoded data removed]",
      "text/plain": [
       "<Figure size 864x144 with 2 Axes>"
      ]
     },
     "metadata": {
      "needs_background": "light"
     },
     "output_type": "display_data"
    }
   ],
   "source": [
    "plot3D_Matrix_p(X,Y,Y_predict_p_plot)"
   ]
  },
  {
   "cell_type": "code",
   "execution_count": 848,
   "id": "8ec4db4c",
   "metadata": {},
   "outputs": [
    {
     "name": "stdout",
     "output_type": "stream",
     "text": [
      "(1500, 1)\n",
      "(1500, 1)\n"
     ]
    }
   ],
   "source": [
    "y_predict_T=PINN(x_test_groundtruth)[:,2] # Collect temperature T\n",
    "y_predict_T=y_predict_T.unsqueeze(0)        \n",
    "y_predict_T=torch.transpose(y_predict_T,0,1)\n",
    "\n",
    "y_predict_T = y_predict_T.detach().numpy()\n",
    "\n",
    "print(T_groundtruth.shape)\n",
    "print(y_predict_T.shape)\n"
   ]
  },
  {
   "cell_type": "code",
   "execution_count": 849,
   "id": "a3c67e73",
   "metadata": {},
   "outputs": [
    {
     "name": "stdout",
     "output_type": "stream",
     "text": [
      "(1500, 1)\n",
      "(1500, 1)\n"
     ]
    }
   ],
   "source": [
    "y_predict_u=PINN(x_test_groundtruth)[:,0] # Collect velocity u\n",
    "y_predict_u=y_predict_u.unsqueeze(0)        \n",
    "y_predict_u=torch.transpose(y_predict_u,0,1)\n",
    "y_predict_u = y_predict_u.detach().numpy()\n",
    "print(u_groundtruth.shape)\n",
    "print(y_predict_u.shape)\n"
   ]
  },
  {
   "cell_type": "code",
   "execution_count": 850,
   "id": "d4742772",
   "metadata": {},
   "outputs": [
    {
     "name": "stdout",
     "output_type": "stream",
     "text": [
      "(1500, 1)\n",
      "(1500, 1)\n",
      "tensor([[1.0000, 0.0900],\n",
      "        [0.9900, 0.0700],\n",
      "        [1.0000, 0.0400],\n",
      "        ...,\n",
      "        [0.0000, 0.9800],\n",
      "        [0.0100, 0.9800],\n",
      "        [0.0100, 1.0000]], dtype=torch.float64)\n"
     ]
    }
   ],
   "source": [
    "y_predict_p=PINN(x_test_groundtruth)[:,1] # Collect pressure P\n",
    "y_predict_p=y_predict_p.unsqueeze(0)        \n",
    "y_predict_p=torch.transpose(y_predict_p,0,1)\n",
    "y_predict_P = y_predict_p.detach().numpy()\n",
    "print(u_groundtruth.shape)\n",
    "print(y_predict_u.shape)\n",
    "print(x_test_groundtruth)\n"
   ]
  },
  {
   "cell_type": "code",
   "execution_count": 851,
   "id": "dd4494fd",
   "metadata": {},
   "outputs": [
    {
     "name": "stdout",
     "output_type": "stream",
     "text": [
      "R square error of T 0.9589956404110722\n"
     ]
    }
   ],
   "source": [
    "Error_T = metrics.r2_score(T_groundtruth,y_predict_T)\n",
    "print(\"R square error of T\", Error_T )"
   ]
  },
  {
   "cell_type": "code",
   "execution_count": 852,
   "id": "6e089aa1",
   "metadata": {},
   "outputs": [
    {
     "name": "stdout",
     "output_type": "stream",
     "text": [
      "R square error of u 0.7938733924841112\n"
     ]
    }
   ],
   "source": [
    "Error_u = metrics.r2_score(u_groundtruth,y_predict_u)\n",
    "print(\"R square error of u\", Error_u )"
   ]
  },
  {
   "cell_type": "code",
   "execution_count": 853,
   "id": "f3870eb0",
   "metadata": {},
   "outputs": [
    {
     "name": "stdout",
     "output_type": "stream",
     "text": [
      "R square error of P 0.8975254561139874\n"
     ]
    }
   ],
   "source": [
    "Error_P = metrics.r2_score(P_groundtruth,y_predict_P)\n",
    "print(\"R square error of P\", Error_P )"
   ]
  }
 ],
 "metadata": {
  "kernelspec": {
   "display_name": "Python 3 (ipykernel)",
   "language": "python",
   "name": "python3"
  },
  "language_info": {
   "codemirror_mode": {
    "name": "ipython",
    "version": 3
   },
   "file_extension": ".py",
   "mimetype": "text/x-python",
   "name": "python",
   "nbconvert_exporter": "python",
   "pygments_lexer": "ipython3",
   "version": "3.7.13"
  }
 },
 "nbformat": 4,
 "nbformat_minor": 5
}
