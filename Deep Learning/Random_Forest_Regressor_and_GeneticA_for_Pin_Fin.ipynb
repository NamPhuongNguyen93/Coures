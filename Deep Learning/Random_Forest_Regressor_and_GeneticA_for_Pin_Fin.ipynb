{
 "cells": [
  {
   "cell_type": "code",
   "execution_count": 1,
   "id": "eea46078",
   "metadata": {},
   "outputs": [
    {
     "ename": "SyntaxError",
     "evalue": "invalid syntax (<ipython-input-1-abc442211213>, line 2)",
     "output_type": "error",
     "traceback": [
      "\u001b[1;36m  File \u001b[1;32m\"<ipython-input-1-abc442211213>\"\u001b[1;36m, line \u001b[1;32m2\u001b[0m\n\u001b[1;33m    pip install pygad\u001b[0m\n\u001b[1;37m        ^\u001b[0m\n\u001b[1;31mSyntaxError\u001b[0m\u001b[1;31m:\u001b[0m invalid syntax\n"
     ]
    }
   ],
   "source": [
    "# install pygad\n",
    "pip install pygad"
   ]
  },
  {
   "cell_type": "code",
   "execution_count": 2,
   "id": "961caa03",
   "metadata": {},
   "outputs": [
    {
     "name": "stdout",
     "output_type": "stream",
     "text": [
      "2.16.3\n"
     ]
    },
    {
     "data": {
      "text/html": [
       "<div>\n",
       "<style scoped>\n",
       "    .dataframe tbody tr th:only-of-type {\n",
       "        vertical-align: middle;\n",
       "    }\n",
       "\n",
       "    .dataframe tbody tr th {\n",
       "        vertical-align: top;\n",
       "    }\n",
       "\n",
       "    .dataframe thead th {\n",
       "        text-align: right;\n",
       "    }\n",
       "</style>\n",
       "<table border=\"1\" class=\"dataframe\">\n",
       "  <thead>\n",
       "    <tr style=\"text-align: right;\">\n",
       "      <th></th>\n",
       "      <th>Design No.</th>\n",
       "      <th>x1</th>\n",
       "      <th>x2</th>\n",
       "      <th>x3</th>\n",
       "      <th>x4</th>\n",
       "      <th>x5</th>\n",
       "      <th>x6</th>\n",
       "      <th>x7</th>\n",
       "      <th>λ</th>\n",
       "      <th>Re</th>\n",
       "      <th>Population size</th>\n",
       "      <th>Temperature</th>\n",
       "      <th>Pressure drop</th>\n",
       "      <th>Stress</th>\n",
       "      <th>Fitness value</th>\n",
       "    </tr>\n",
       "  </thead>\n",
       "  <tbody>\n",
       "    <tr>\n",
       "      <th>0</th>\n",
       "      <td>1</td>\n",
       "      <td>1.4</td>\n",
       "      <td>1.4</td>\n",
       "      <td>3.0</td>\n",
       "      <td>1.9</td>\n",
       "      <td>1.6</td>\n",
       "      <td>1.7</td>\n",
       "      <td>1.8</td>\n",
       "      <td>0.2</td>\n",
       "      <td>3046</td>\n",
       "      <td>15</td>\n",
       "      <td>317.9</td>\n",
       "      <td>57.64</td>\n",
       "      <td>12.38</td>\n",
       "      <td>121.22</td>\n",
       "    </tr>\n",
       "    <tr>\n",
       "      <th>1</th>\n",
       "      <td>1</td>\n",
       "      <td>1.4</td>\n",
       "      <td>1.4</td>\n",
       "      <td>3.0</td>\n",
       "      <td>1.9</td>\n",
       "      <td>1.6</td>\n",
       "      <td>1.7</td>\n",
       "      <td>1.8</td>\n",
       "      <td>0.2</td>\n",
       "      <td>4687</td>\n",
       "      <td>15</td>\n",
       "      <td>314.2</td>\n",
       "      <td>128.30</td>\n",
       "      <td>12.38</td>\n",
       "      <td>191.14</td>\n",
       "    </tr>\n",
       "    <tr>\n",
       "      <th>2</th>\n",
       "      <td>1</td>\n",
       "      <td>1.4</td>\n",
       "      <td>1.4</td>\n",
       "      <td>3.0</td>\n",
       "      <td>1.9</td>\n",
       "      <td>1.6</td>\n",
       "      <td>1.7</td>\n",
       "      <td>1.8</td>\n",
       "      <td>0.2</td>\n",
       "      <td>7030</td>\n",
       "      <td>15</td>\n",
       "      <td>311.2</td>\n",
       "      <td>278.80</td>\n",
       "      <td>12.38</td>\n",
       "      <td>341.04</td>\n",
       "    </tr>\n",
       "    <tr>\n",
       "      <th>3</th>\n",
       "      <td>1</td>\n",
       "      <td>1.4</td>\n",
       "      <td>1.4</td>\n",
       "      <td>3.0</td>\n",
       "      <td>1.9</td>\n",
       "      <td>1.6</td>\n",
       "      <td>1.7</td>\n",
       "      <td>1.8</td>\n",
       "      <td>0.2</td>\n",
       "      <td>9374</td>\n",
       "      <td>15</td>\n",
       "      <td>309.4</td>\n",
       "      <td>487.50</td>\n",
       "      <td>12.38</td>\n",
       "      <td>549.38</td>\n",
       "    </tr>\n",
       "    <tr>\n",
       "      <th>4</th>\n",
       "      <td>1</td>\n",
       "      <td>1.4</td>\n",
       "      <td>1.4</td>\n",
       "      <td>3.0</td>\n",
       "      <td>1.9</td>\n",
       "      <td>1.6</td>\n",
       "      <td>1.7</td>\n",
       "      <td>1.8</td>\n",
       "      <td>0.2</td>\n",
       "      <td>11717</td>\n",
       "      <td>15</td>\n",
       "      <td>308.1</td>\n",
       "      <td>754.30</td>\n",
       "      <td>12.38</td>\n",
       "      <td>815.92</td>\n",
       "    </tr>\n",
       "  </tbody>\n",
       "</table>\n",
       "</div>"
      ],
      "text/plain": [
       "    Design No.   x1   x2   x3   x4   x5   x6   x7    λ     Re  \\\n",
       "0            1  1.4  1.4  3.0  1.9  1.6  1.7  1.8  0.2   3046   \n",
       "1            1  1.4  1.4  3.0  1.9  1.6  1.7  1.8  0.2   4687   \n",
       "2            1  1.4  1.4  3.0  1.9  1.6  1.7  1.8  0.2   7030   \n",
       "3            1  1.4  1.4  3.0  1.9  1.6  1.7  1.8  0.2   9374   \n",
       "4            1  1.4  1.4  3.0  1.9  1.6  1.7  1.8  0.2  11717   \n",
       "\n",
       "   Population size  Temperature  Pressure drop  Stress  Fitness value  \n",
       "0               15        317.9          57.64   12.38         121.22  \n",
       "1               15        314.2         128.30   12.38         191.14  \n",
       "2               15        311.2         278.80   12.38         341.04  \n",
       "3               15        309.4         487.50   12.38         549.38  \n",
       "4               15        308.1         754.30   12.38         815.92  "
      ]
     },
     "execution_count": 2,
     "metadata": {},
     "output_type": "execute_result"
    }
   ],
   "source": [
    "# Import libraies and data file\n",
    "import pandas as pd\n",
    "from sklearn.ensemble import RandomForestRegressor# Import RandomForestRegressor\n",
    "from sklearn import metrics\n",
    "from sklearn.model_selection import train_test_split\n",
    "import numpy as np\n",
    "import matplotlib.pyplot as plt\n",
    "import pygad\n",
    "print(pygad.__version__)\n",
    "\n",
    "Pinfin=pd.read_excel('pin fin data.xlsx')\n",
    "Pinfin.head()"
   ]
  },
  {
   "cell_type": "code",
   "execution_count": 3,
   "id": "aa16b7b6",
   "metadata": {},
   "outputs": [
    {
     "data": {
      "text/plain": [
       "(180, 15)"
      ]
     },
     "execution_count": 3,
     "metadata": {},
     "output_type": "execute_result"
    }
   ],
   "source": [
    "# Check the dimension of data array\n",
    "Pinfin.shape"
   ]
  },
  {
   "cell_type": "code",
   "execution_count": 4,
   "id": "febb9fef",
   "metadata": {},
   "outputs": [
    {
     "data": {
      "text/html": [
       "<div>\n",
       "<style scoped>\n",
       "    .dataframe tbody tr th:only-of-type {\n",
       "        vertical-align: middle;\n",
       "    }\n",
       "\n",
       "    .dataframe tbody tr th {\n",
       "        vertical-align: top;\n",
       "    }\n",
       "\n",
       "    .dataframe thead th {\n",
       "        text-align: right;\n",
       "    }\n",
       "</style>\n",
       "<table border=\"1\" class=\"dataframe\">\n",
       "  <thead>\n",
       "    <tr style=\"text-align: right;\">\n",
       "      <th></th>\n",
       "      <th>x1</th>\n",
       "      <th>x2</th>\n",
       "      <th>x3</th>\n",
       "      <th>x4</th>\n",
       "      <th>x5</th>\n",
       "      <th>x6</th>\n",
       "      <th>x7</th>\n",
       "      <th>Re</th>\n",
       "    </tr>\n",
       "  </thead>\n",
       "  <tbody>\n",
       "    <tr>\n",
       "      <th>0</th>\n",
       "      <td>1.4</td>\n",
       "      <td>1.4</td>\n",
       "      <td>3.0</td>\n",
       "      <td>1.9</td>\n",
       "      <td>1.6</td>\n",
       "      <td>1.7</td>\n",
       "      <td>1.8</td>\n",
       "      <td>3046</td>\n",
       "    </tr>\n",
       "    <tr>\n",
       "      <th>1</th>\n",
       "      <td>1.4</td>\n",
       "      <td>1.4</td>\n",
       "      <td>3.0</td>\n",
       "      <td>1.9</td>\n",
       "      <td>1.6</td>\n",
       "      <td>1.7</td>\n",
       "      <td>1.8</td>\n",
       "      <td>4687</td>\n",
       "    </tr>\n",
       "    <tr>\n",
       "      <th>2</th>\n",
       "      <td>1.4</td>\n",
       "      <td>1.4</td>\n",
       "      <td>3.0</td>\n",
       "      <td>1.9</td>\n",
       "      <td>1.6</td>\n",
       "      <td>1.7</td>\n",
       "      <td>1.8</td>\n",
       "      <td>7030</td>\n",
       "    </tr>\n",
       "    <tr>\n",
       "      <th>3</th>\n",
       "      <td>1.4</td>\n",
       "      <td>1.4</td>\n",
       "      <td>3.0</td>\n",
       "      <td>1.9</td>\n",
       "      <td>1.6</td>\n",
       "      <td>1.7</td>\n",
       "      <td>1.8</td>\n",
       "      <td>9374</td>\n",
       "    </tr>\n",
       "    <tr>\n",
       "      <th>4</th>\n",
       "      <td>1.4</td>\n",
       "      <td>1.4</td>\n",
       "      <td>3.0</td>\n",
       "      <td>1.9</td>\n",
       "      <td>1.6</td>\n",
       "      <td>1.7</td>\n",
       "      <td>1.8</td>\n",
       "      <td>11717</td>\n",
       "    </tr>\n",
       "  </tbody>\n",
       "</table>\n",
       "</div>"
      ],
      "text/plain": [
       "    x1   x2   x3   x4   x5   x6   x7     Re\n",
       "0  1.4  1.4  3.0  1.9  1.6  1.7  1.8   3046\n",
       "1  1.4  1.4  3.0  1.9  1.6  1.7  1.8   4687\n",
       "2  1.4  1.4  3.0  1.9  1.6  1.7  1.8   7030\n",
       "3  1.4  1.4  3.0  1.9  1.6  1.7  1.8   9374\n",
       "4  1.4  1.4  3.0  1.9  1.6  1.7  1.8  11717"
      ]
     },
     "execution_count": 4,
     "metadata": {},
     "output_type": "execute_result"
    }
   ],
   "source": [
    "# Drop columns of the output variables (make an input variable array)\n",
    "# Create output label arrays\n",
    "Pinfin1=Pinfin.drop(['Pressure drop','Population size','λ','Fitness value','Temperature','Stress'],axis='columns')\n",
    "xVar=Pinfin1.drop(Pinfin1.columns[0],axis='columns')\n",
    "yVar1=Pinfin[\"Temperature\"]\n",
    "yVar2=Pinfin[\"Pressure drop\"]\n",
    "yVar=pd.concat([yVar1,yVar2],axis='columns')\n",
    "\n",
    "# print input matrix\n",
    "xVar.head()"
   ]
  },
  {
   "cell_type": "code",
   "execution_count": 5,
   "id": "db6a8d38",
   "metadata": {},
   "outputs": [
    {
     "data": {
      "text/html": [
       "<div>\n",
       "<style scoped>\n",
       "    .dataframe tbody tr th:only-of-type {\n",
       "        vertical-align: middle;\n",
       "    }\n",
       "\n",
       "    .dataframe tbody tr th {\n",
       "        vertical-align: top;\n",
       "    }\n",
       "\n",
       "    .dataframe thead th {\n",
       "        text-align: right;\n",
       "    }\n",
       "</style>\n",
       "<table border=\"1\" class=\"dataframe\">\n",
       "  <thead>\n",
       "    <tr style=\"text-align: right;\">\n",
       "      <th></th>\n",
       "      <th>Temperature</th>\n",
       "      <th>Pressure drop</th>\n",
       "    </tr>\n",
       "  </thead>\n",
       "  <tbody>\n",
       "    <tr>\n",
       "      <th>0</th>\n",
       "      <td>317.9</td>\n",
       "      <td>57.64</td>\n",
       "    </tr>\n",
       "    <tr>\n",
       "      <th>1</th>\n",
       "      <td>314.2</td>\n",
       "      <td>128.30</td>\n",
       "    </tr>\n",
       "    <tr>\n",
       "      <th>2</th>\n",
       "      <td>311.2</td>\n",
       "      <td>278.80</td>\n",
       "    </tr>\n",
       "    <tr>\n",
       "      <th>3</th>\n",
       "      <td>309.4</td>\n",
       "      <td>487.50</td>\n",
       "    </tr>\n",
       "    <tr>\n",
       "      <th>4</th>\n",
       "      <td>308.1</td>\n",
       "      <td>754.30</td>\n",
       "    </tr>\n",
       "  </tbody>\n",
       "</table>\n",
       "</div>"
      ],
      "text/plain": [
       "   Temperature  Pressure drop\n",
       "0        317.9          57.64\n",
       "1        314.2         128.30\n",
       "2        311.2         278.80\n",
       "3        309.4         487.50\n",
       "4        308.1         754.30"
      ]
     },
     "execution_count": 5,
     "metadata": {},
     "output_type": "execute_result"
    }
   ],
   "source": [
    "# print output matrix\n",
    "yVar.head()"
   ]
  },
  {
   "cell_type": "code",
   "execution_count": 6,
   "id": "888802b3",
   "metadata": {},
   "outputs": [
    {
     "data": {
      "text/html": [
       "<div>\n",
       "<style scoped>\n",
       "    .dataframe tbody tr th:only-of-type {\n",
       "        vertical-align: middle;\n",
       "    }\n",
       "\n",
       "    .dataframe tbody tr th {\n",
       "        vertical-align: top;\n",
       "    }\n",
       "\n",
       "    .dataframe thead th {\n",
       "        text-align: right;\n",
       "    }\n",
       "</style>\n",
       "<table border=\"1\" class=\"dataframe\">\n",
       "  <thead>\n",
       "    <tr style=\"text-align: right;\">\n",
       "      <th></th>\n",
       "      <th>x1</th>\n",
       "      <th>x2</th>\n",
       "      <th>x3</th>\n",
       "      <th>x4</th>\n",
       "      <th>x5</th>\n",
       "      <th>x6</th>\n",
       "      <th>x7</th>\n",
       "      <th>Re</th>\n",
       "    </tr>\n",
       "  </thead>\n",
       "  <tbody>\n",
       "    <tr>\n",
       "      <th>98</th>\n",
       "      <td>2.1</td>\n",
       "      <td>2.8</td>\n",
       "      <td>1.5</td>\n",
       "      <td>2.5</td>\n",
       "      <td>3.0</td>\n",
       "      <td>2.9</td>\n",
       "      <td>1.4</td>\n",
       "      <td>9374</td>\n",
       "    </tr>\n",
       "    <tr>\n",
       "      <th>128</th>\n",
       "      <td>1.1</td>\n",
       "      <td>1.1</td>\n",
       "      <td>1.6</td>\n",
       "      <td>2.9</td>\n",
       "      <td>3.5</td>\n",
       "      <td>3.1</td>\n",
       "      <td>1.3</td>\n",
       "      <td>9374</td>\n",
       "    </tr>\n",
       "    <tr>\n",
       "      <th>156</th>\n",
       "      <td>2.6</td>\n",
       "      <td>3.3</td>\n",
       "      <td>2.8</td>\n",
       "      <td>2.9</td>\n",
       "      <td>3.3</td>\n",
       "      <td>1.2</td>\n",
       "      <td>3.0</td>\n",
       "      <td>4687</td>\n",
       "    </tr>\n",
       "    <tr>\n",
       "      <th>37</th>\n",
       "      <td>1.4</td>\n",
       "      <td>1.2</td>\n",
       "      <td>1.4</td>\n",
       "      <td>1.6</td>\n",
       "      <td>1.0</td>\n",
       "      <td>2.1</td>\n",
       "      <td>1.4</td>\n",
       "      <td>7030</td>\n",
       "    </tr>\n",
       "    <tr>\n",
       "      <th>49</th>\n",
       "      <td>1.4</td>\n",
       "      <td>1.2</td>\n",
       "      <td>1.0</td>\n",
       "      <td>2.5</td>\n",
       "      <td>1.7</td>\n",
       "      <td>2.1</td>\n",
       "      <td>2.2</td>\n",
       "      <td>11717</td>\n",
       "    </tr>\n",
       "  </tbody>\n",
       "</table>\n",
       "</div>"
      ],
      "text/plain": [
       "      x1   x2   x3   x4   x5   x6   x7     Re\n",
       "98   2.1  2.8  1.5  2.5  3.0  2.9  1.4   9374\n",
       "128  1.1  1.1  1.6  2.9  3.5  3.1  1.3   9374\n",
       "156  2.6  3.3  2.8  2.9  3.3  1.2  3.0   4687\n",
       "37   1.4  1.2  1.4  1.6  1.0  2.1  1.4   7030\n",
       "49   1.4  1.2  1.0  2.5  1.7  2.1  2.2  11717"
      ]
     },
     "execution_count": 6,
     "metadata": {},
     "output_type": "execute_result"
    }
   ],
   "source": [
    "# Split arrys into random train and test subset\n",
    "# train_size: proportion of the dataset to include in the train split\n",
    "# random_state: controls the shuffling applied to the data before applyinng the split; pass an integer for 'reproducible' output\n",
    "xTrain,xTest,yTrain,yTest=train_test_split(xVar,yVar,train_size=0.8,random_state=38)\n",
    "xTrain.head()"
   ]
  },
  {
   "cell_type": "code",
   "execution_count": 7,
   "id": "fb7272de",
   "metadata": {},
   "outputs": [],
   "source": [
    "# Crate RandomForestRegressor model\n",
    "\n",
    "model=RandomForestRegressor(n_estimators=100,criterion=\"mse\",random_state=39)"
   ]
  },
  {
   "cell_type": "code",
   "execution_count": 8,
   "id": "b82f1a8d",
   "metadata": {},
   "outputs": [
    {
     "data": {
      "text/plain": [
       "RandomForestRegressor(random_state=39)"
      ]
     },
     "execution_count": 8,
     "metadata": {},
     "output_type": "execute_result"
    }
   ],
   "source": [
    "# Training RandomForest Model\n",
    "model.fit(xTrain,yTrain)"
   ]
  },
  {
   "cell_type": "code",
   "execution_count": 9,
   "id": "dc745d36",
   "metadata": {
    "scrolled": true
   },
   "outputs": [],
   "source": [
    "# Predict for training set\n",
    "yyTrain = model.predict(xTrain)\n",
    "#print(yyTrain)"
   ]
  },
  {
   "cell_type": "code",
   "execution_count": 10,
   "id": "29abb423",
   "metadata": {},
   "outputs": [
    {
     "data": {
      "text/plain": [
       "array([[ 307.1,  740.3,  307.1,  789.4],\n",
       "       [ 307.2,  515.9,  307.2,  536.5],\n",
       "       [ 310.8,  286.6,  311.3,  257.3],\n",
       "       [ 313.8,  167.9,  313.7,  169. ],\n",
       "       [ 308.6,  617.3,  308.7,  604.1],\n",
       "       [ 311.9,  227.4,  312.1,  218.9],\n",
       "       [ 307.4,  516.1,  307.4,  531.9],\n",
       "       [ 311.2,  278.8,  311.4,  267.2],\n",
       "       [ 309.9,  398.2,  310.1,  386.6],\n",
       "       [ 308.3,  618.4,  308.3,  629.2],\n",
       "       [ 311.1,  134.9,  311. ,  136.2],\n",
       "       [ 313.1,  139.1,  312.7,  150.8],\n",
       "       [ 309.4,  487.5,  309.5,  472.5],\n",
       "       [ 312.5,   93.9,  313. ,   97.7],\n",
       "       [ 314.2,  128.3,  314.4,  124.6],\n",
       "       [ 314.2,  128.3,  314.4,  124.6],\n",
       "       [ 308.8,  308.3,  308.9,  318.3],\n",
       "       [ 311.1,  314.1,  310.9,  328. ],\n",
       "       [ 316.5,   62.7,  316.6,   64.4],\n",
       "       [ 309.3,  538.9,  309.2,  558.4],\n",
       "       [ 306.4,  990.6,  306.5,  931.8],\n",
       "       [ 306.3,  797.8,  306.4,  812.6],\n",
       "       [ 310.4,  152.7,  310.8,  148.8],\n",
       "       [ 310.2,  166.1,  310.9,  180. ],\n",
       "       [ 311.4,  230.1,  311.6,  230.4],\n",
       "       [ 310.8,  348.9,  310.6,  366.5],\n",
       "       [ 310.5,  145.2,  310.6,  143.9],\n",
       "       [ 308.8,  654.5,  308.7,  654.8],\n",
       "       [ 305.8, 1257.3,  306. , 1228.2],\n",
       "       [ 318.3,   48.6,  318.4,   51.1],\n",
       "       [ 309.6,  422.8,  309.4,  473. ],\n",
       "       [ 317. ,   84.3,  316.9,   91.8],\n",
       "       [ 308.1,  382.7,  309. ,  349.1],\n",
       "       [ 310.6,  324.9,  310.6,  329.4],\n",
       "       [ 311.5,  314.6,  310.9,  349.6],\n",
       "       [ 322.4,   39.8,  321.4,   44.5],\n",
       "       [ 312.8,  192.3,  312.6,  204.6],\n",
       "       [ 312.7,  181.4,  312.6,  185.8],\n",
       "       [ 317.1,   85.7,  316.2,   99. ],\n",
       "       [ 309.9,  418.4,  309.7,  453.5],\n",
       "       [ 310.1,  424. ,  309.7,  450.2],\n",
       "       [ 308.1,  754.3,  308.1,  753.5],\n",
       "       [ 310.7,  335.5,  310.6,  349.2],\n",
       "       [ 306.2,  861.5,  306.3,  839.4],\n",
       "       [ 312.4,   85.5,  313.4,   76.6],\n",
       "       [ 313.4,   67.7,  313.8,   66.5],\n",
       "       [ 319.4,   49.9,  319.1,   51.2],\n",
       "       [ 307.6,  811.5,  307.3,  880.6],\n",
       "       [ 305.9, 1115. ,  306.1, 1103. ],\n",
       "       [ 313.3,  181.1,  313.1,  187.6],\n",
       "       [ 307.2,  640.4,  307.4,  633.5],\n",
       "       [ 313. ,  200.4,  312.8,  207.4],\n",
       "       [ 312.3,  121.2,  312. ,  129.5],\n",
       "       [ 307.1,  659.2,  307.5,  628.6],\n",
       "       [ 307.4,  516.1,  307.4,  531.9],\n",
       "       [ 314.1,   63.2,  314.5,   64.9],\n",
       "       [ 307.2, 1159.8,  307. , 1254.3],\n",
       "       [ 322.7,   35.9,  322.1,   37.6],\n",
       "       [ 309.2,  499.8,  309.1,  518.4],\n",
       "       [ 311.1,  134.9,  311. ,  136.2],\n",
       "       [ 319.5,   46.6,  319.7,   47.2],\n",
       "       [ 313.9,  157.2,  313.7,  166.8],\n",
       "       [ 313.6,  224.4,  312.9,  225.1],\n",
       "       [ 320.4,   39.3,  320.6,   39.6],\n",
       "       [ 309.5,  612.2,  309.3,  617.8],\n",
       "       [ 304.9, 2314.8,  305.5, 1962. ],\n",
       "       [ 309.2,  518.9,  309.1,  536.9],\n",
       "       [ 309.6,  400.7,  309.5,  419.8],\n",
       "       [ 316.4,   88.9,  316.2,   93.5],\n",
       "       [ 310.2,  427.7,  310.4,  422.6],\n",
       "       [ 306.2, 1683.4,  306.5, 1543.6],\n",
       "       [ 317.7,   78.5,  317.4,   81.9],\n",
       "       [ 308.5,  365.4,  308.6,  372.4],\n",
       "       [ 317.5,   99.9,  316.6,  103.7],\n",
       "       [ 306.1, 1156.7,  306.4, 1144.8],\n",
       "       [ 310.1,  186.1,  310.2,  183.2],\n",
       "       [ 306.7,  753.7,  307. ,  700.3],\n",
       "       [ 316.3,   88.7,  315.8,   96.5],\n",
       "       [ 311.4,  290.8,  311.3,  294. ],\n",
       "       [ 306.2,  910.5,  306.4,  877.6],\n",
       "       [ 317.2,   73.8,  315.8,   92.8],\n",
       "       [ 306.5,  848.3,  307.5,  702.2],\n",
       "       [ 307.9,  428.6,  308.4,  383.8],\n",
       "       [ 311.1,  141.5,  311.4,  142.3],\n",
       "       [ 313.6,  126.7,  313.8,  118.9],\n",
       "       [ 309.2,  483.4,  309.2,  502.6],\n",
       "       [ 317.7,   85.2,  316.8,   95.3],\n",
       "       [ 309.9,  194.6,  310.6,  172.8],\n",
       "       [ 317.9,   57.6,  318.1,   56.4],\n",
       "       [ 312.6,  189.7,  312.5,  198.7],\n",
       "       [ 308.5,  294.7,  308.8,  305.6],\n",
       "       [ 307.2, 1091.3,  307.4, 1045.8],\n",
       "       [ 310.4,  191.5,  310.7,  193. ],\n",
       "       [ 310.8,  135.1,  310.7,  138.9],\n",
       "       [ 317.2,  107.2,  316.7,  109.5],\n",
       "       [ 317.9,   57.6,  318.1,   56.4],\n",
       "       [ 321.8,   49.9,  321. ,   49.3],\n",
       "       [ 321.6,   38.9,  321.6,   38.9],\n",
       "       [ 308.4,  749.9,  308.4,  792. ],\n",
       "       [ 320.3,   40.3,  320.4,   40.3],\n",
       "       [ 307.5, 1308. ,  307.4, 1273.4],\n",
       "       [ 312.8,   81.9,  313.2,   84.9],\n",
       "       [ 310.9,  274. ,  310.7,  286.6],\n",
       "       [ 313.4,  158.1,  313. ,  173.9],\n",
       "       [ 310.6,  314.1,  310.6,  322.5],\n",
       "       [ 310.4,  301.4,  310.4,  312.1],\n",
       "       [ 320.8,   40.5,  321. ,   40.1],\n",
       "       [ 308.8,  294.6,  308.9,  307.6],\n",
       "       [ 321.4,   42.4,  320.8,   45.4],\n",
       "       [ 311.1,  274.5,  310.9,  305. ],\n",
       "       [ 308.1,  754.3,  308.1,  753.5],\n",
       "       [ 313.8,  181.8,  313.3,  192.9],\n",
       "       [ 308. ,  735.1,  308.2,  708.7],\n",
       "       [ 308.3,  461.6,  308.4,  471. ],\n",
       "       [ 312.4,  220.5,  312.3,  221. ],\n",
       "       [ 312.6,  187.4,  312.5,  191.6],\n",
       "       [ 307.1,  556.7,  307.1,  571.5],\n",
       "       [ 309.2,  476.7,  309.2,  483.9],\n",
       "       [ 315.8,  102.4,  315.8,  101.3],\n",
       "       [ 309.4,  487.5,  309.5,  472.5],\n",
       "       [ 313.2,   84.4,  313.3,   85.5],\n",
       "       [ 309.9,  483.5,  309.6,  530.8],\n",
       "       [ 311.5,  271.9,  311.4,  285.3],\n",
       "       [ 308.9,  299.2,  309. ,  309.9],\n",
       "       [ 305.9, 1167.8,  306.1, 1062.8],\n",
       "       [ 309.3,  505.6,  309.2,  517.5],\n",
       "       [ 308.7,  849.4,  308.4,  858.3],\n",
       "       [ 310.5,  487.4,  310.2,  472.5],\n",
       "       [ 306.5,  834.1,  306.6,  854.9],\n",
       "       [ 308.3,  421.4,  308.5,  417.3],\n",
       "       [ 306.2, 1146.6,  306.2, 1126.5],\n",
       "       [ 313.7,   61.5,  313.9,   63.2],\n",
       "       [ 309.8,  212. ,  310. ,  211.4],\n",
       "       [ 322.3,   32.9,  321.7,   35.8],\n",
       "       [ 307.3,  714.4,  307.4,  730.1],\n",
       "       [ 309.8,  263.6,  310.1,  261.2],\n",
       "       [ 306.5,  798.8,  306.6,  791.9],\n",
       "       [ 311.1,  398. ,  310.8,  394. ],\n",
       "       [ 311.2,  278.8,  311.4,  267.2],\n",
       "       [ 308.3,  334.7,  308.7,  328.2],\n",
       "       [ 321.1,   38.6,  320.7,   41.7],\n",
       "       [ 310.3,  384.2,  310.4,  373. ],\n",
       "       [ 317.6,   57.7,  318. ,   57.5],\n",
       "       [ 313.2,  194.8,  312.9,  210.7]])"
      ]
     },
     "execution_count": 10,
     "metadata": {},
     "output_type": "execute_result"
    }
   ],
   "source": [
    "# Print actual values of train set\n",
    "# yComp=np.concatenate((xTrain,yTrain,yyTrain),axis=1)\n",
    "yComp=np.concatenate((yTrain,yyTrain),axis=1)\n",
    "np.set_printoptions(precision=1,suppress=True)\n",
    "yComp"
   ]
  },
  {
   "cell_type": "code",
   "execution_count": 11,
   "id": "5b8b8499",
   "metadata": {},
   "outputs": [],
   "source": [
    "# Predict for test set\n",
    "yyTest = model.predict(xTest)"
   ]
  },
  {
   "cell_type": "code",
   "execution_count": 12,
   "id": "18efe40f",
   "metadata": {},
   "outputs": [
    {
     "data": {
      "text/plain": [
       "array([[    1.1,     1.2,     1.4,     1.6,     1. ,     2.1,     1.3,\n",
       "         4687. ,   317.9,    73.7,   317.4,    82.8],\n",
       "       [    1.1,     1.5,     1.6,     2.9,     3.5,     3.1,     1.3,\n",
       "         7030. ,   308.3,   317.5,   308.9,   308.3],\n",
       "       [    1.1,     1.2,     1.4,     1.6,     1. ,     2.1,     1.3,\n",
       "         3046. ,   322.9,    34.1,   322.1,    37.4],\n",
       "       [    1.4,     2.9,     1.1,     2.6,     1.6,     3.1,     1.3,\n",
       "         4687. ,   313.8,   127.1,   313.1,   141.5],\n",
       "       [    1.4,     1.1,     2.7,     1.2,     1.2,     2.4,     1.6,\n",
       "        11717. ,   308.9,   593.8,   308.9,   574.4],\n",
       "       [    1.1,     1.5,     1.6,     2.9,     3.5,     3.1,     1.3,\n",
       "         3046. ,   313.4,    65.1,   313.9,    63.2],\n",
       "       [    1.4,     2.8,     1.5,     2.6,     3. ,     2.9,     1.4,\n",
       "         4687. ,   310.7,   167. ,   311.4,   156.7],\n",
       "       [    1.1,     1.2,     1.6,     2.3,     2.3,     3.5,     2.6,\n",
       "         3046. ,   316.5,    48.4,   316.5,    59.1],\n",
       "       [    1.4,     1.2,     1.4,     1.6,     1. ,     2.1,     1.4,\n",
       "        11717. ,   309.8,   447.6,   309.6,   463.4],\n",
       "       [    1.1,     1.1,     1.6,     2.9,     3.5,     3.1,     3.3,\n",
       "         9374. ,   307. ,   587.7,   307.5,   566.1],\n",
       "       [    1.5,     1.5,     1.5,     1.5,     1.5,     1.5,     1.5,\n",
       "         9374. ,   310.7,   328.6,   310.4,   371.1],\n",
       "       [    1.1,     1.1,     1.6,     2.9,     3.5,     2.6,     1.3,\n",
       "        11717. ,   306.5,   798.8,   306.6,   791.9],\n",
       "       [    1.4,     2.8,     1.5,     2.6,     3. ,     2.9,     1.4,\n",
       "         3046. ,   313.6,    73.9,   314.5,    69.5],\n",
       "       [    1.4,     1.4,     1.1,     1.6,     1.6,     1.7,     2.2,\n",
       "         4687. ,   316. ,    87.5,   315.6,   100.6],\n",
       "       [    2.8,     1.1,     1.6,     2.9,     3.5,     3.1,     3.5,\n",
       "         7030. ,   307.8,   464.1,   308.5,   432.3],\n",
       "       [    2.1,     1.1,     1.6,     2.9,     3.5,     3.1,     2.6,\n",
       "         9374. ,   306.7,   719.5,   307.1,   849.1],\n",
       "       [    1.4,     2.9,     1.1,     1.9,     1.6,     1.7,     1.8,\n",
       "         4687. ,   315.3,   112.7,   314.2,   130.7],\n",
       "       [    1.4,     2.9,     1.1,     1.9,     1.6,     1.7,     1.8,\n",
       "         7030. ,   312. ,   243.4,   311. ,   270. ],\n",
       "       [    2.6,     3.3,     2.8,     2.9,     3.3,     1.2,     3. ,\n",
       "         7030. ,   308.5,   625.3,   309. ,   543.3],\n",
       "       [    1.1,     1.1,     1.6,     2.9,     3.5,     2.6,     1.3,\n",
       "         3046. ,   314.2,    60.1,   314.2,    62.9],\n",
       "       [    1.4,     1.2,     1. ,     2.5,     1.7,     2.1,     2.2,\n",
       "         4687. ,   315.2,   104.6,   315. ,   107.6],\n",
       "       [    1.4,     1.4,     1.1,     2.6,     1.6,     3.1,     1.8,\n",
       "         4687. ,   314.5,   106.8,   314.1,   118.3],\n",
       "       [    2.8,     1.1,     1.6,     2.9,     3.5,     3.1,     3.5,\n",
       "         9374. ,   306.6,   813.2,   307.2,   911.7],\n",
       "       [    3.5,     3.3,     2.8,     2.9,     3.3,     3.1,     3. ,\n",
       "         9374. ,   305.5,  1493.3,   306.5,  1298.7],\n",
       "       [    1.4,     1.2,     1.4,     3. ,     1.1,     2.1,     3. ,\n",
       "         7030. ,   313.4,   229.7,   312.4,   220.4],\n",
       "       [    2.1,     1.1,     1.6,     2.9,     3.5,     3.1,     2.6,\n",
       "         7030. ,   307.9,   409.4,   308.6,   408. ],\n",
       "       [    1.4,     1.4,     1.1,     1.6,     1.6,     1.7,     1.8,\n",
       "         4687. ,   316.1,    84.9,   315.7,   100.3],\n",
       "       [    3.5,     2.6,     1.6,     2.9,     3.5,     3.1,     3.5,\n",
       "        11717. ,   305.3,  1790. ,   305.7,  1670.3],\n",
       "       [    1.4,     1.2,     1.4,     1.3,     1.1,     2.1,     3. ,\n",
       "        11717. ,   309.6,   483.5,   309.2,   533.8],\n",
       "       [    3.5,     2.6,     1.6,     2.9,     3.5,     3.1,     3.5,\n",
       "         3046. ,   311.2,   131.1,   311.4,   168.8],\n",
       "       [    1.4,     1.2,     1.5,     2.3,     1.2,     2.1,     1.3,\n",
       "         4687. ,   316.7,    92.9,   316.4,    95.7],\n",
       "       [    1.4,     1.1,     2.7,     1.2,     1.2,     2.4,     1.6,\n",
       "         3046. ,   320.2,    46.1,   320.2,    44.8],\n",
       "       [    1.1,     1.1,     1.6,     2.9,     3.5,     2.6,     1.3,\n",
       "         7030. ,   308.8,   294.5,   308.9,   307.6],\n",
       "       [    1.4,     1.7,     1.5,     2.6,     3.1,     2.9,     1.4,\n",
       "         9374. ,   307.5,   539.4,   307.4,   631.3],\n",
       "       [    2. ,     2. ,     2. ,     2. ,     2. ,     2. ,     2. ,\n",
       "         9374. ,   308.8,   525.8,   308.4,   618.3],\n",
       "       [    1.1,     1.1,     1.6,     2.9,     3.5,     2.6,     1.3,\n",
       "         3046. ,   314.2,    60.1,   314.2,    62.9]])"
      ]
     },
     "execution_count": 12,
     "metadata": {},
     "output_type": "execute_result"
    }
   ],
   "source": [
    "# Print actual values of test set\n",
    "yComp=np.concatenate((xTest,yTest,yyTest),axis=1)\n",
    "np.set_printoptions(precision=1,suppress=True)\n",
    "yComp"
   ]
  },
  {
   "cell_type": "code",
   "execution_count": 13,
   "id": "5f4468bc",
   "metadata": {},
   "outputs": [
    {
     "name": "stdout",
     "output_type": "stream",
     "text": [
      "9.089894529320993 806.3718411126468 0.9929539583183319 0.987812941322877\n"
     ]
    }
   ],
   "source": [
    "# Evaluate errors of training set\n",
    "mae=metrics.mean_absolute_error(yTrain,yyTrain)\n",
    "mse=metrics.mean_squared_error(yTrain,yyTrain)\n",
    "rsq=metrics.r2_score(yTrain[\"Temperature\"],yyTrain[:,0])\n",
    "rsq1=metrics.r2_score(yTrain[\"Pressure drop\"],yyTrain[:,1])\n",
    "print(mae,mse,rsq,rsq1)"
   ]
  },
  {
   "cell_type": "code",
   "execution_count": 14,
   "id": "028f1dd8",
   "metadata": {},
   "outputs": [
    {
     "name": "stdout",
     "output_type": "stream",
     "text": [
      "17.155815679012274 1567.186935512567 0.9838836403220077 0.979311815805276\n"
     ]
    }
   ],
   "source": [
    "# Evaluate errors of test set\n",
    "mae=metrics.mean_absolute_error(yTest,yyTest)\n",
    "mse=metrics.mean_squared_error(yTest,yyTest)\n",
    "rsq=metrics.r2_score(yTest[\"Temperature\"],yyTest[:,0])\n",
    "rsq1=metrics.r2_score(yTest[\"Pressure drop\"],yyTest[:,1])\n",
    "print(mae,mse,rsq,rsq1)"
   ]
  },
  {
   "cell_type": "code",
   "execution_count": 15,
   "id": "0cc3939d",
   "metadata": {},
   "outputs": [],
   "source": [
    "Temperature_predict=yyTest[:,0]\n",
    "Temperature_real=yTest[\"Temperature\"]\n",
    "Pressuredrop_predict=yyTest[:,1]\n",
    "Pressuredrop_real=yTest[\"Pressure drop\"]\n",
    "\n",
    "Temperature_predict_train=yyTrain[:,0]\n",
    "Temperature_real_train=yTrain[\"Temperature\"]\n",
    "Pressuredrop_predict_train=yyTrain[:,1]\n",
    "Pressuredrop_real_train=yTrain[\"Pressure drop\"]"
   ]
  },
  {
   "cell_type": "code",
   "execution_count": 16,
   "id": "8d157ff8",
   "metadata": {},
   "outputs": [
    {
     "data": {
      "image/png": "[encoded data removed]",
      "text/plain": [
       "<Figure size 432x288 with 1 Axes>"
      ]
     },
     "metadata": {
      "needs_background": "light"
     },
     "output_type": "display_data"
    },
    {
     "data": {
      "image/png": "[encoded data removed]",
      "text/plain": [
       "<Figure size 432x288 with 1 Axes>"
      ]
     },
     "metadata": {
      "needs_background": "light"
     },
     "output_type": "display_data"
    }
   ],
   "source": [
    "plt.scatter(Temperature_real,Temperature_predict,color='dodgerblue')\n",
    "plt.scatter(Temperature_real_train,Temperature_predict_train,color='black')\n",
    "#plt.plot(Temperature_real,Temperature_real,color='red')\n",
    "plt.xlabel('Real Temperature',size=15)\n",
    "plt.ylabel('Predict Temperature',size=15)\n",
    "plt.show()\n",
    "\n",
    "plt.scatter(Pressuredrop_real,Pressuredrop_predict,color='dodgerblue')\n",
    "plt.scatter(Pressuredrop_real_train,Pressuredrop_predict_train,color='black')\n",
    "#plt.plot(Pressuredrop_real_train,Pressuredrop_real_train,color='red')\n",
    "plt.xlabel('Real Pressure drop',size=15)\n",
    "plt.ylabel('Predict Pressure drop',size=15)\n",
    "plt.show()\n"
   ]
  },
  {
   "cell_type": "code",
   "execution_count": 17,
   "id": "63391abf",
   "metadata": {},
   "outputs": [],
   "source": [
    "# Genetic Algorithm"
   ]
  },
  {
   "cell_type": "code",
   "execution_count": 232,
   "id": "3e050e81",
   "metadata": {},
   "outputs": [],
   "source": [
    "# Create fitness function\n",
    "\n",
    "def fitness_fuction(y,solution_idx):\n",
    "    # y array of 7 optimized variables (x coordinate of pin fin)\n",
    "    # Re=3046, lambda=5\n",
    "    # Re=4687, lambda=14\n",
    "    # Re=7030, lambda=35\n",
    "    # Re=9374, lambda=65\n",
    "    # Re=11717, lambda=130\n",
    "    # adjust variable y if exceeding lower bound 1 or upper bound 3.5\n",
    "    if y[0]<1:\n",
    "        y[0]=1\n",
    "    elif y[0]>3.5:\n",
    "        y[0]=3.5\n",
    "    else:\n",
    "        y[0]=y[0]\n",
    "    \n",
    "    if y[1]<1:\n",
    "        y[1]=1\n",
    "    elif y[1]>3.5:\n",
    "        y[1]=3.5\n",
    "    else:\n",
    "        y[1]=y[1]\n",
    "\n",
    "    if y[2]<1:\n",
    "        y[2]=1\n",
    "    elif y[2]>3.5:\n",
    "        y[2]=3.5\n",
    "    else:\n",
    "        y[2]=y[2]\n",
    "\n",
    "    if y[3]<1:\n",
    "        y[3]=1\n",
    "    elif y[3]>3.5:\n",
    "        y[3]=3.5\n",
    "    else:\n",
    "        y[3]=y[3]\n",
    "        \n",
    "    if y[4]<1:\n",
    "        y[4]=1\n",
    "    elif y[4]>3.5:\n",
    "        y[4]=3.5\n",
    "    else:\n",
    "        y[4]=y[4]\n",
    "\n",
    "    if y[5]<1:\n",
    "        y[5]=1\n",
    "    elif y[5]>3.5:\n",
    "        y[5]=3.5\n",
    "    else:\n",
    "        y[5]=y[5]\n",
    "\n",
    "    if y[6]<1:\n",
    "        y[6]=1\n",
    "    elif y[6]>3.5:\n",
    "        y[6]=3.5\n",
    "    else:\n",
    "        y[6]=y[6]\n",
    "    \n",
    "    # import variable array y generated in GA to trained model to predict\n",
    "    \n",
    "    data = {'x1':[y[0]],'x2':[y[1]],'x3':[y[2]],'x4':[y[3]],'x5':[y[4]],'x6':[y[5]],'x7':[y[6]],'Re':3040} \n",
    "    df1 = pd.DataFrame(data)\n",
    "    \n",
    "    \n",
    "    # using trained model to predict temperature \"(TP_val[0,0],1)\"\" and pressure drop \"TP_val[0,1],1)\"\n",
    "    \n",
    "    TP_val=np.array(model.predict(df1))\n",
    "    f_val=round(TP_val[0,0],1)+0*round(TP_val[0,1],1)  # fitness function in COMSOL&GA\n",
    "    fi=100/f_val                                        # reverse of fitness function cause GA in python will maximize fi,meaning minimize f_val \n",
    "    \n",
    "    return fi\n"
   ]
  },
  {
   "cell_type": "code",
   "execution_count": 233,
   "id": "f2701c3a",
   "metadata": {},
   "outputs": [
    {
     "name": "stderr",
     "output_type": "stream",
     "text": [
      "C:\\Users\\USER\\anaconda3\\lib\\site-packages\\pygad\\pygad.py:486: UserWarning: The percentage of genes to mutate (mutation_percent_genes=1) resutled in selecting (0) genes. The number of genes to mutate is set to 1 (mutation_num_genes=1).\n",
      "If you do not want to mutate any gene, please set mutation_type=None.\n",
      "  if not self.suppress_warnings: warnings.warn(\"The percentage of genes to mutate (mutation_percent_genes={mutation_percent}) resutled in selecting ({mutation_num}) genes. The number of genes to mutate is set to 1 (mutation_num_genes=1).\\nIf you do not want to mutate any gene, please set mutation_type=None.\".format(mutation_percent=mutation_percent_genes, mutation_num=mutation_num_genes))\n"
     ]
    }
   ],
   "source": [
    "# create GA model and adjust parameters\n",
    "\n",
    "ga_instance = pygad.GA(num_generations=500,            # iteration number\n",
    "                       sol_per_pop = 7,               # variables number\n",
    "                       num_genes = 50,                 # population size\n",
    "                       num_parents_mating=1, \n",
    "                       fitness_func=fitness_fuction, # fitness function\n",
    "                       init_range_low=1,              # lower bound\n",
    "                       init_range_high=3.5,           # upper bound\n",
    "                       mutation_percent_genes=1)"
   ]
  },
  {
   "cell_type": "code",
   "execution_count": 234,
   "id": "1699b301",
   "metadata": {},
   "outputs": [],
   "source": [
    "ga_instance.run()"
   ]
  },
  {
   "cell_type": "code",
   "execution_count": 235,
   "id": "a99b2aeb",
   "metadata": {
    "scrolled": true
   },
   "outputs": [
    {
     "name": "stderr",
     "output_type": "stream",
     "text": [
      "C:\\Users\\USER\\anaconda3\\lib\\site-packages\\pygad\\pygad.py:3142: UserWarning: Please use the plot_fitness() method instead of plot_result(). The plot_result() method will be removed in the future.\n",
      "  warnings.warn(\"Please use the plot_fitness() method instead of plot_result(). The plot_result() method will be removed in the future.\")\n"
     ]
    },
    {
     "data": {
      "image/png": "[encoded data removed]",
      "text/plain": [
       "<Figure size 432x288 with 1 Axes>"
      ]
     },
     "metadata": {
      "needs_background": "light"
     },
     "output_type": "display_data"
    },
    {
     "data": {
      "image/png": "[encoded data removed]",
      "text/plain": [
       "<Figure size 432x288 with 1 Axes>"
      ]
     },
     "execution_count": 235,
     "metadata": {},
     "output_type": "execute_result"
    }
   ],
   "source": [
    "ga_instance.plot_result(linewidth=4,color='blue')"
   ]
  },
  {
   "cell_type": "code",
   "execution_count": 236,
   "id": "48200b9d",
   "metadata": {
    "scrolled": true
   },
   "outputs": [
    {
     "name": "stdout",
     "output_type": "stream",
     "text": [
      "Initial Population\n",
      "[[1.6 2.  2.9 1.7 1.5 2.6 1.2 2.9 1.7 2.4 3.3 3.1 1.9 2.6 1.7 1.7 2.4 3.\n",
      "  1.7 1.1 2.3 1.6 3.2 1.8 3.3 2.8 3.2 2.6 1.  2.  2.6 1.  1.6 2.2 1.9 2.5\n",
      "  3.3 2.6 2.5 2.8 2.3 3.4 2.1 1.5 2.7 2.6 1.2 3.  2.8 3.1]\n",
      " [2.3 1.8 2.7 1.3 3.  2.1 1.9 2.8 1.  3.  3.4 2.6 1.  2.5 2.  2.5 2.2 3.1\n",
      "  1.9 2.6 1.1 1.9 3.1 2.  1.1 3.  1.  1.6 1.1 1.1 1.1 1.  1.7 1.4 2.  1.5\n",
      "  3.5 2.1 3.  3.1 2.5 1.9 2.5 2.8 2.1 2.8 1.7 2.8 1.3 2.2]\n",
      " [1.4 2.9 2.8 2.6 1.5 2.5 1.5 3.3 3.  3.2 1.8 1.7 1.5 3.4 3.  3.1 2.3 2.5\n",
      "  1.9 2.9 1.2 2.1 1.1 2.6 2.  1.7 1.1 3.3 3.  1.6 3.5 1.7 3.  1.3 1.3 3.2\n",
      "  3.3 1.6 1.9 1.  3.2 3.1 1.8 1.1 1.2 1.9 2.9 2.8 3.3 1.6]\n",
      " [1.5 2.2 2.1 2.5 1.  2.1 2.8 2.1 1.3 2.  3.  2.1 1.4 1.  3.3 1.3 2.8 2.1\n",
      "  1.2 2.5 2.6 3.2 1.6 2.3 1.9 1.3 3.3 2.3 3.4 3.  2.5 2.8 1.5 1.2 2.8 2.9\n",
      "  1.4 2.2 1.8 1.4 1.  1.5 2.8 1.9 2.3 3.3 1.3 1.1 2.9 2.9]\n",
      " [2.5 1.9 2.2 1.7 1.  3.1 3.2 1.6 3.3 1.3 3.5 1.4 3.  3.5 2.5 1.7 2.3 1.6\n",
      "  3.2 1.9 1.6 1.9 1.9 2.2 1.3 1.5 3.1 1.1 2.7 1.2 3.4 3.3 1.1 3.4 3.5 2.5\n",
      "  1.2 3.3 1.9 2.3 3.1 1.6 3.3 3.2 3.1 1.8 3.3 2.3 1.1 1.7]\n",
      " [2.6 3.3 1.4 2.4 2.3 1.2 1.6 2.9 2.2 1.3 2.8 2.3 1.2 1.5 2.9 2.1 3.1 2.3\n",
      "  3.  2.6 3.4 1.2 2.3 3.1 1.9 2.6 1.2 3.5 3.1 1.4 2.6 1.3 3.  1.8 2.4 1.3\n",
      "  2.1 2.6 2.1 2.5 3.3 1.8 2.3 1.1 2.4 2.8 1.7 1.7 2.5 1.4]\n",
      " [3.  2.3 2.4 1.3 3.1 2.1 1.2 2.7 1.8 3.2 1.  2.9 3.1 1.9 2.3 2.8 2.  3.\n",
      "  2.  2.8 3.4 2.7 2.9 1.7 1.4 2.2 1.7 3.4 2.3 2.2 2.1 3.3 2.7 1.8 2.9 2.9\n",
      "  2.  2.3 2.5 2.9 2.  1.2 1.1 2.9 1.3 1.2 2.5 2.9 1.2 2.2]]\n"
     ]
    }
   ],
   "source": [
    "print(\"Initial Population\")\n",
    "print(ga_instance.initial_population)"
   ]
  },
  {
   "cell_type": "code",
   "execution_count": 237,
   "id": "3d504eeb",
   "metadata": {},
   "outputs": [],
   "source": [
    "y,solution_fitnesstion,solution_idx= ga_instance.best_solution()"
   ]
  },
  {
   "cell_type": "code",
   "execution_count": 238,
   "id": "9ea5371b",
   "metadata": {},
   "outputs": [
    {
     "name": "stdout",
     "output_type": "stream",
     "text": [
      "Maximum fitness value = 0.321646831778707\n"
     ]
    }
   ],
   "source": [
    "# Print best fitness value\n",
    "\n",
    "print(\"Maximum fitness value = {solution_fitnesstion}\".format(solution_fitnesstion=solution_fitnesstion))"
   ]
  },
  {
   "cell_type": "code",
   "execution_count": 239,
   "id": "c281169a",
   "metadata": {},
   "outputs": [
    {
     "name": "stdout",
     "output_type": "stream",
     "text": [
      "x1 = 3.5\n",
      "x2 = 3.5\n",
      "x3 = 2.865986465487699\n",
      "x4 = 3.0333387201617086\n",
      "x5 = 3.264878212171247\n",
      "x6 = 3.5\n",
      "x7 = 2.6357144646240593\n"
     ]
    }
   ],
   "source": [
    "# print optimized variables\n",
    "\n",
    "print(\"x1 = {variable1}\".format(variable1=y[0])) \n",
    "print(\"x2 = {variable2}\".format(variable2=y[1]))\n",
    "print(\"x3 = {variable3}\".format(variable3=y[2]))\n",
    "print(\"x4 = {variable4}\".format(variable4=y[3]))\n",
    "print(\"x5 = {variable5}\".format(variable5=y[4]))\n",
    "print(\"x6 = {variable6}\".format(variable6=y[5]))\n",
    "print(\"x7 = {variable7}\".format(variable7=y[6]))"
   ]
  },
  {
   "cell_type": "code",
   "execution_count": 240,
   "id": "c7b45251",
   "metadata": {},
   "outputs": [
    {
     "name": "stdout",
     "output_type": "stream",
     "text": [
      "310.9 179.3\n"
     ]
    }
   ],
   "source": [
    "# Check temperature and pressure drop of optimized variables predicted by ML \n",
    "y=[y[0],y[1],y[2],y[3],y[4],y[5],y[6]]  \n",
    "data = {'x1':[y[0]],'x2':[y[1]],'x3':[y[2]],'x4':[y[3]],'x5':[y[4]],'x6':[y[5]],'x7':[y[6]],'Re':3040} \n",
    "df1 = pd.DataFrame(data)\n",
    "    \n",
    "TP_val=np.array(model.predict(df1))\n",
    "#f_val=35*round(TP_val[0,0],1)+round(TP_val[0,1],1)\n",
    "print(round(TP_val[0,0],1),round(TP_val[0,1],1))"
   ]
  },
  {
   "cell_type": "code",
   "execution_count": null,
   "id": "9ece0b4f",
   "metadata": {},
   "outputs": [],
   "source": []
  },
  {
   "cell_type": "code",
   "execution_count": null,
   "id": "59810507",
   "metadata": {},
   "outputs": [],
   "source": []
  },
  {
   "cell_type": "code",
   "execution_count": null,
   "id": "e73cea92",
   "metadata": {},
   "outputs": [],
   "source": []
  },
  {
   "cell_type": "code",
   "execution_count": null,
   "id": "7c82f534",
   "metadata": {},
   "outputs": [],
   "source": []
  }
 ],
 "metadata": {
  "kernelspec": {
   "display_name": "Python 3",
   "language": "python",
   "name": "python3"
  },
  "language_info": {
   "codemirror_mode": {
    "name": "ipython",
    "version": 3
   },
   "file_extension": ".py",
   "mimetype": "text/x-python",
   "name": "python",
   "nbconvert_exporter": "python",
   "pygments_lexer": "ipython3",
   "version": "3.8.8"
  }
 },
 "nbformat": 4,
 "nbformat_minor": 5
}
